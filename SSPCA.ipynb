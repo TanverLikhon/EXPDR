{
 "cells": [
  {
   "cell_type": "code",
   "execution_count": 1,
   "metadata": {},
   "outputs": [
    {
     "name": "stdout",
     "output_type": "stream",
     "text": [
      "Automatically created module for IPython interactive environment\n"
     ]
    }
   ],
   "source": [
    "from scipy.io import loadmat\n",
    "import numpy as np\n",
    "import pandas as pd\n",
    "from time import time\n",
    "import logging\n",
    "import matplotlib.pyplot as plt\n",
    "\n",
    "from sklearn.model_selection import train_test_split\n",
    "from sklearn.model_selection import GridSearchCV\n",
    "from sklearn.datasets import fetch_lfw_people\n",
    "from sklearn.metrics import classification_report\n",
    "from sklearn.metrics import confusion_matrix\n",
    "from sklearn.decomposition import PCA\n",
    "from sklearn.svm import SVC\n",
    "from sklearn.model_selection import cross_val_score\n",
    "\n",
    "print(__doc__)\n",
    "\n",
    "# Display progress logs on stdout\n",
    "logging.basicConfig(level=logging.INFO, format='%(asctime)s %(message)s')"
   ]
  },
  {
   "cell_type": "code",
   "execution_count": 2,
   "metadata": {},
   "outputs": [],
   "source": [
    "import warnings\n",
    "from sklearn.exceptions import DataConversionWarning\n",
    "warnings.filterwarnings(action='ignore', category=DataConversionWarning)"
   ]
  },
  {
   "cell_type": "code",
   "execution_count": 3,
   "metadata": {},
   "outputs": [],
   "source": [
    "# load mat file\n",
    "mat = loadmat('AV_org_GRSL_Baily.mat')"
   ]
  },
  {
   "cell_type": "code",
   "execution_count": 4,
   "metadata": {},
   "outputs": [],
   "source": [
    "# mat"
   ]
  },
  {
   "cell_type": "markdown",
   "metadata": {},
   "source": [
    "## load data"
   ]
  },
  {
   "cell_type": "code",
   "execution_count": 5,
   "metadata": {},
   "outputs": [
    {
     "data": {
      "text/plain": [
       "((1121, 220), (1121, 1), (1006, 220), (1006, 1))"
      ]
     },
     "execution_count": 5,
     "metadata": {},
     "output_type": "execute_result"
    }
   ],
   "source": [
    "X_train = mat['train']\n",
    "X_test = mat['test']\n",
    "y_train = mat['train_label']\n",
    "y_test = mat['test_label']\n",
    "\n",
    "X_train.shape, y_train.shape, X_test.shape, y_test.shape"
   ]
  },
  {
   "cell_type": "markdown",
   "metadata": {},
   "source": [
    "## Data concatenation : train + test = Data"
   ]
  },
  {
   "cell_type": "code",
   "execution_count": 6,
   "metadata": {},
   "outputs": [
    {
     "data": {
      "text/plain": [
       "((2127, 220), (2127, 1))"
      ]
     },
     "execution_count": 6,
     "metadata": {},
     "output_type": "execute_result"
    }
   ],
   "source": [
    "Data = np.concatenate((X_train, X_test), axis = 0)\n",
    "label = np.concatenate((y_train, y_test), axis = 0)\n",
    "\n",
    "\n",
    "Data.shape, label.shape"
   ]
  },
  {
   "cell_type": "markdown",
   "metadata": {},
   "source": [
    "## Divide data into three segement based on Spectral Wavelength"
   ]
  },
  {
   "cell_type": "code",
   "execution_count": 7,
   "metadata": {},
   "outputs": [
    {
     "data": {
      "text/plain": [
       "((2127, 32), (2127, 40), (2127, 148))"
      ]
     },
     "execution_count": 7,
     "metadata": {},
     "output_type": "execute_result"
    }
   ],
   "source": [
    "D1 = Data[:, :32]\n",
    "D2 = Data[:, 32:72]\n",
    "D3 = Data[:, 72:]\n",
    "\n",
    "D1.shape, D2.shape, D3.shape"
   ]
  },
  {
   "cell_type": "code",
   "execution_count": null,
   "metadata": {},
   "outputs": [],
   "source": []
  },
  {
   "cell_type": "markdown",
   "metadata": {},
   "source": [
    "## PCA: Data"
   ]
  },
  {
   "cell_type": "code",
   "execution_count": 8,
   "metadata": {},
   "outputs": [
    {
     "name": "stdout",
     "output_type": "stream",
     "text": [
      "done in 0.232s\n",
      "Shape of Data PCA is: (2127, 220)\n",
      "done in 0.012s\n"
     ]
    }
   ],
   "source": [
    "n_components = 220\n",
    "\n",
    "t0 = time()\n",
    "pca = PCA(n_components=n_components, svd_solver='randomized',\n",
    "          whiten=True).fit(Data)\n",
    "print(\"done in %0.3fs\" % (time() - t0))\n",
    "\n",
    "\n",
    "\n",
    "t0 = time()\n",
    "Data_pca = pca.transform(Data)\n",
    "print(\"Shape of Data PCA is: {}\".format(Data_pca.shape))\n",
    "print(\"done in %0.3fs\" % (time() - t0))"
   ]
  },
  {
   "cell_type": "markdown",
   "metadata": {},
   "source": [
    "## PCA: D1"
   ]
  },
  {
   "cell_type": "code",
   "execution_count": 9,
   "metadata": {},
   "outputs": [
    {
     "name": "stdout",
     "output_type": "stream",
     "text": [
      "done in 0.009s\n",
      "Shape of D1 PCA is: (2127, 9)\n",
      "done in 0.001s\n"
     ]
    }
   ],
   "source": [
    "n_components = 9\n",
    "\n",
    "t0 = time()\n",
    "pca = PCA(n_components=n_components, svd_solver='randomized',\n",
    "          whiten=True).fit(D1)\n",
    "print(\"done in %0.3fs\" % (time() - t0))\n",
    "\n",
    "\n",
    "\n",
    "t0 = time()\n",
    "D1_pca = pca.transform(D1)\n",
    "print(\"Shape of D1 PCA is: {}\".format(D1_pca.shape))\n",
    "print(\"done in %0.3fs\" % (time() - t0))"
   ]
  },
  {
   "cell_type": "markdown",
   "metadata": {},
   "source": [
    "## PCA: D2"
   ]
  },
  {
   "cell_type": "code",
   "execution_count": 10,
   "metadata": {},
   "outputs": [
    {
     "name": "stdout",
     "output_type": "stream",
     "text": [
      "done in 0.008s\n",
      "Shape of D2 PCA is: (2127, 6)\n",
      "done in 0.001s\n"
     ]
    }
   ],
   "source": [
    "n_components = 6\n",
    "\n",
    "t0 = time()\n",
    "pca = PCA(n_components=n_components, svd_solver='randomized',\n",
    "          whiten=True).fit(D2)\n",
    "print(\"done in %0.3fs\" % (time() - t0))\n",
    "\n",
    "\n",
    "\n",
    "t0 = time()\n",
    "D2_pca = pca.transform(D2)\n",
    "print(\"Shape of D2 PCA is: {}\".format(D2_pca.shape))\n",
    "print(\"done in %0.3fs\" % (time() - t0))"
   ]
  },
  {
   "cell_type": "markdown",
   "metadata": {},
   "source": [
    "## PCA D3"
   ]
  },
  {
   "cell_type": "code",
   "execution_count": 11,
   "metadata": {},
   "outputs": [
    {
     "name": "stdout",
     "output_type": "stream",
     "text": [
      "done in 0.025s\n",
      "Shape of D3 PCA is: (2127, 5)\n",
      "done in 0.003s\n"
     ]
    }
   ],
   "source": [
    "n_components = 5\n",
    "\n",
    "t0 = time()\n",
    "pca = PCA(n_components=n_components, svd_solver='randomized',\n",
    "          whiten=True).fit(D3)\n",
    "print(\"done in %0.3fs\" % (time() - t0))\n",
    "\n",
    "\n",
    "\n",
    "t0 = time()\n",
    "D3_pca = pca.transform(D3)\n",
    "print(\"Shape of D3 PCA is: {}\".format(D3_pca.shape))\n",
    "print(\"done in %0.3fs\" % (time() - t0))"
   ]
  },
  {
   "cell_type": "code",
   "execution_count": null,
   "metadata": {},
   "outputs": [],
   "source": []
  },
  {
   "cell_type": "markdown",
   "metadata": {},
   "source": [
    "# concatenate all pca: D1+D2+D3 = Spectrally segement_pca"
   ]
  },
  {
   "cell_type": "code",
   "execution_count": 12,
   "metadata": {},
   "outputs": [
    {
     "name": "stdout",
     "output_type": "stream",
     "text": [
      "Shape of segement_pca PCA is: (2127, 20)\n"
     ]
    }
   ],
   "source": [
    "S_segement_pca = np.concatenate((D1_pca, D2_pca, D3_pca), axis = 1)\n",
    "\n",
    "print(\"Shape of segement_pca PCA is: {}\".format(S_segement_pca.shape))"
   ]
  },
  {
   "cell_type": "markdown",
   "metadata": {},
   "source": [
    "# SVM On segement_pca"
   ]
  },
  {
   "cell_type": "markdown",
   "metadata": {},
   "source": [
    "## train test split"
   ]
  },
  {
   "cell_type": "code",
   "execution_count": 13,
   "metadata": {},
   "outputs": [
    {
     "data": {
      "text/plain": [
       "((1148, 20), (979, 20), (1148, 1), (979, 1))"
      ]
     },
     "execution_count": 13,
     "metadata": {},
     "output_type": "execute_result"
    }
   ],
   "source": [
    "from sklearn.model_selection import train_test_split\n",
    "\n",
    "X_train_pca, X_test_pca, y_train, y_test = train_test_split(S_segement_pca, label, test_size = 0.46, random_state=121)\n",
    "\n",
    "X_train_pca.shape, X_test_pca.shape, y_train.shape, y_test.shape"
   ]
  },
  {
   "cell_type": "code",
   "execution_count": null,
   "metadata": {},
   "outputs": [],
   "source": []
  },
  {
   "cell_type": "markdown",
   "metadata": {},
   "source": [
    "## Train svm on GridSearch approach"
   ]
  },
  {
   "cell_type": "code",
   "execution_count": 14,
   "metadata": {},
   "outputs": [
    {
     "name": "stdout",
     "output_type": "stream",
     "text": [
      "Fitting the classifier to the training set\n",
      "done in 0.497s\n",
      "Best estimator found by grid search:\n",
      "SVC(C=10000.0, class_weight='balanced', gamma=0.001)\n"
     ]
    }
   ],
   "source": [
    "#############################################################################\n",
    "#Train a SVM classification model\n",
    "\n",
    "print(\"Fitting the classifier to the training set\")\n",
    "t0 = time()\n",
    "param_grid = {'C': [1e3, 1e4],\n",
    "              'gamma': [0.0001,  0.001], }\n",
    "clf = GridSearchCV(\n",
    "    SVC(kernel='rbf', class_weight='balanced'), param_grid, cv=5\n",
    ")\n",
    "clf = clf.fit(X_train_pca, y_train)\n",
    "print(\"done in %0.3fs\" % (time() - t0))\n",
    "print(\"Best estimator found by grid search:\")\n",
    "print(clf.best_estimator_)"
   ]
  },
  {
   "cell_type": "markdown",
   "metadata": {},
   "source": [
    "## Test the model"
   ]
  },
  {
   "cell_type": "code",
   "execution_count": 15,
   "metadata": {},
   "outputs": [
    {
     "name": "stdout",
     "output_type": "stream",
     "text": [
      "Predicting HSI on the test set\n",
      "done in 0.018s\n",
      "                     precision    recall  f1-score   support\n",
      "\n",
      "            Alfalfa       0.99      1.00      1.00       132\n",
      "        Corn-notill       0.98      0.91      0.94        93\n",
      "       Corn-mintill       0.99      0.99      0.99       251\n",
      "               Corn       1.00      1.00      1.00        39\n",
      "      Grass-pasture       1.00      1.00      1.00        86\n",
      "        Grass-trees       0.94      0.99      0.96       125\n",
      "Grass-pasture-mowed       1.00      1.00      1.00        83\n",
      "      Hay-windrowed       1.00      1.00      1.00        44\n",
      "               Oats       0.90      0.97      0.94        39\n",
      "     Soybean-notill       1.00      0.79      0.88        19\n",
      "    Soybean-mintill       1.00      1.00      1.00        25\n",
      "      Soybean-clean       1.00      0.93      0.96        14\n",
      "              Wheat       1.00      1.00      1.00        12\n",
      "               Wood       0.82      0.82      0.82        17\n",
      "\n",
      "           accuracy                           0.98       979\n",
      "          macro avg       0.97      0.96      0.96       979\n",
      "       weighted avg       0.98      0.98      0.98       979\n",
      "\n",
      "[[  0   0   0   0   0   0   0   0   0   0   0   0   0   0]\n",
      " [  0 132   0   0   0   0   0   0   0   0   0   0   0   0]\n",
      " [  0   0  85   0   0   0   7   0   0   1   0   0   0   0]\n",
      " [  0   0   0 248   0   0   0   0   0   0   0   0   0   0]\n",
      " [  0   0   0   0  39   0   0   0   0   0   0   0   0   0]\n",
      " [  0   0   0   0   0  86   0   0   0   0   0   0   0   0]\n",
      " [  0   0   1   0   0   0 124   0   0   0   0   0   0   0]\n",
      " [  0   0   0   0   0   0   0  83   0   0   0   0   0   0]\n",
      " [  0   0   0   0   0   0   0   0  44   0   0   0   0   0]\n",
      " [  0   0   0   0   0   0   1   0   0  38   0   0   0   0]\n",
      " [  0   0   1   0   0   0   0   0   0   3  15   0   0   0]\n",
      " [  0   0   0   0   0   0   0   0   0   0   0  25   0   0]\n",
      " [  0   1   0   0   0   0   0   0   0   0   0   0  13   0]\n",
      " [  0   0   0   0   0   0   0   0   0   0   0   0   0  12]]\n"
     ]
    }
   ],
   "source": [
    "\n",
    "# #############################################################################\n",
    "# Quantitative evaluation of the model quality on the test set\n",
    "\n",
    "print(\"Predicting HSI on the test set\")\n",
    "t0 = time()\n",
    "y_pred = clf.predict(X_test_pca)\n",
    "print(\"done in %0.3fs\" % (time() - t0))\n",
    "\n",
    "\n",
    "label_names = ['Alfalfa', 'Corn-notill', 'Corn-mintill', 'Corn', 'Grass-pasture', 'Grass-trees', 'Grass-pasture-mowed', 'Hay-windrowed', 'Oats', 'Soybean-notill', 'Soybean-mintill', \n",
    "              'Soybean-clean', 'Wheat', 'Wood', ]\n",
    "print(classification_report(y_test, y_pred, target_names=label_names))\n",
    "print(confusion_matrix(y_test, y_pred, labels=range(14)))"
   ]
  },
  {
   "cell_type": "markdown",
   "metadata": {},
   "source": [
    "## Training and Cross Validation"
   ]
  },
  {
   "cell_type": "code",
   "execution_count": 16,
   "metadata": {},
   "outputs": [
    {
     "data": {
      "text/plain": [
       "((1701, 20), (426, 20), (1701, 1), (426, 1))"
      ]
     },
     "execution_count": 16,
     "metadata": {},
     "output_type": "execute_result"
    }
   ],
   "source": [
    "# Train test split\n",
    "X_train_pca, X_test_pca, y_train, y_test = train_test_split(S_segement_pca, label, test_size = 0.2, random_state=121)\n",
    "\n",
    "X_train_pca.shape, X_test_pca.shape, y_train.shape, y_test.shape"
   ]
  },
  {
   "cell_type": "code",
   "execution_count": null,
   "metadata": {},
   "outputs": [],
   "source": []
  },
  {
   "cell_type": "code",
   "execution_count": 17,
   "metadata": {},
   "outputs": [],
   "source": [
    "\n",
    "clf = SVC(C=10000.0, break_ties=False, cache_size=200, class_weight='balanced',\n",
    "    coef0=0.0, decision_function_shape='ovr', degree=3, gamma=0.001,\n",
    "    kernel='rbf', max_iter=-1, probability=False, random_state=None,\n",
    "    shrinking=True, tol=0.001, verbose=False)\n",
    "\n",
    "\n",
    "all_accuracies = cross_val_score(estimator=clf, X=X_train_pca, y=y_train, cv=5)"
   ]
  },
  {
   "cell_type": "code",
   "execution_count": 18,
   "metadata": {},
   "outputs": [
    {
     "name": "stdout",
     "output_type": "stream",
     "text": [
      "[0.98240469 0.98823529 0.98235294 0.97352941 0.99411765]\n"
     ]
    }
   ],
   "source": [
    "print(all_accuracies)"
   ]
  },
  {
   "cell_type": "code",
   "execution_count": null,
   "metadata": {},
   "outputs": [],
   "source": []
  },
  {
   "cell_type": "code",
   "execution_count": null,
   "metadata": {},
   "outputs": [],
   "source": []
  }
 ],
 "metadata": {
  "kernelspec": {
   "display_name": "Python 3",
   "language": "python",
   "name": "python3"
  },
  "language_info": {
   "codemirror_mode": {
    "name": "ipython",
    "version": 3
   },
   "file_extension": ".py",
   "mimetype": "text/x-python",
   "name": "python",
   "nbconvert_exporter": "python",
   "pygments_lexer": "ipython3",
   "version": "3.8.3"
  }
 },
 "nbformat": 4,
 "nbformat_minor": 4
}
