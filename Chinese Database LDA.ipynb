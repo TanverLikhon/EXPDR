{
 "cells": [
  {
   "cell_type": "code",
   "execution_count": 1,
   "metadata": {},
   "outputs": [],
   "source": [
    "import pandas as pd\n",
    "import numpy as np\n",
    "from sklearn.discriminant_analysis import LinearDiscriminantAnalysis as LDA\n",
    "\n",
    "from sklearn import datasets\n",
    "import matplotlib.pyplot as plt\n",
    "%matplotlib inline"
   ]
  },
  {
   "cell_type": "code",
   "execution_count": 2,
   "metadata": {},
   "outputs": [
    {
     "data": {
      "text/html": [
       "<div>\n",
       "<style scoped>\n",
       "    .dataframe tbody tr th:only-of-type {\n",
       "        vertical-align: middle;\n",
       "    }\n",
       "\n",
       "    .dataframe tbody tr th {\n",
       "        vertical-align: top;\n",
       "    }\n",
       "\n",
       "    .dataframe thead th {\n",
       "        text-align: right;\n",
       "    }\n",
       "</style>\n",
       "<table border=\"1\" class=\"dataframe\">\n",
       "  <thead>\n",
       "    <tr style=\"text-align: right;\">\n",
       "      <th></th>\n",
       "      <th>Attribute 1</th>\n",
       "      <th>Attribute 2</th>\n",
       "      <th>Attribute 3</th>\n",
       "      <th>Attribute 4</th>\n",
       "      <th>Attribute 5</th>\n",
       "      <th>Attribute 6</th>\n",
       "      <th>Attribute 7</th>\n",
       "      <th>Attribute 8</th>\n",
       "      <th>Attribute 9</th>\n",
       "      <th>Attribute 10</th>\n",
       "      <th>...</th>\n",
       "      <th>Attribute 71</th>\n",
       "      <th>Attribute 72</th>\n",
       "      <th>Attribute 73</th>\n",
       "      <th>Attribute 74</th>\n",
       "      <th>Attribute 75</th>\n",
       "      <th>Attribute 76</th>\n",
       "      <th>Attribute 77</th>\n",
       "      <th>Attribute 78</th>\n",
       "      <th>Attribute 79</th>\n",
       "      <th>Y</th>\n",
       "    </tr>\n",
       "  </thead>\n",
       "  <tbody>\n",
       "    <tr>\n",
       "      <th>0</th>\n",
       "      <td>0.328470</td>\n",
       "      <td>0.621909</td>\n",
       "      <td>0.681941</td>\n",
       "      <td>0.077886</td>\n",
       "      <td>0.000000</td>\n",
       "      <td>0.466059</td>\n",
       "      <td>1.0</td>\n",
       "      <td>1.000000</td>\n",
       "      <td>0.031412</td>\n",
       "      <td>0.894724</td>\n",
       "      <td>...</td>\n",
       "      <td>0.2</td>\n",
       "      <td>0.0</td>\n",
       "      <td>0.0</td>\n",
       "      <td>0.626321</td>\n",
       "      <td>0.239027</td>\n",
       "      <td>0.356067</td>\n",
       "      <td>0.97561</td>\n",
       "      <td>0.182182</td>\n",
       "      <td>0.650655</td>\n",
       "      <td>1</td>\n",
       "    </tr>\n",
       "    <tr>\n",
       "      <th>1</th>\n",
       "      <td>0.000000</td>\n",
       "      <td>0.000000</td>\n",
       "      <td>0.681941</td>\n",
       "      <td>0.000000</td>\n",
       "      <td>0.000000</td>\n",
       "      <td>0.000000</td>\n",
       "      <td>0.0</td>\n",
       "      <td>0.000000</td>\n",
       "      <td>0.000000</td>\n",
       "      <td>0.000000</td>\n",
       "      <td>...</td>\n",
       "      <td>0.2</td>\n",
       "      <td>0.0</td>\n",
       "      <td>0.0</td>\n",
       "      <td>0.694637</td>\n",
       "      <td>0.239027</td>\n",
       "      <td>0.356067</td>\n",
       "      <td>0.97561</td>\n",
       "      <td>0.182182</td>\n",
       "      <td>0.650655</td>\n",
       "      <td>0</td>\n",
       "    </tr>\n",
       "    <tr>\n",
       "      <th>2</th>\n",
       "      <td>0.325102</td>\n",
       "      <td>0.517464</td>\n",
       "      <td>0.000000</td>\n",
       "      <td>0.059524</td>\n",
       "      <td>0.000000</td>\n",
       "      <td>0.467174</td>\n",
       "      <td>1.0</td>\n",
       "      <td>0.641464</td>\n",
       "      <td>0.070322</td>\n",
       "      <td>0.587853</td>\n",
       "      <td>...</td>\n",
       "      <td>1.0</td>\n",
       "      <td>0.5</td>\n",
       "      <td>1.0</td>\n",
       "      <td>0.721803</td>\n",
       "      <td>0.239027</td>\n",
       "      <td>0.356067</td>\n",
       "      <td>0.97561</td>\n",
       "      <td>0.182182</td>\n",
       "      <td>0.650655</td>\n",
       "      <td>0</td>\n",
       "    </tr>\n",
       "    <tr>\n",
       "      <th>3</th>\n",
       "      <td>0.346195</td>\n",
       "      <td>0.478459</td>\n",
       "      <td>0.095400</td>\n",
       "      <td>0.038364</td>\n",
       "      <td>0.000000</td>\n",
       "      <td>0.459010</td>\n",
       "      <td>1.0</td>\n",
       "      <td>0.476235</td>\n",
       "      <td>0.000138</td>\n",
       "      <td>0.515098</td>\n",
       "      <td>...</td>\n",
       "      <td>0.2</td>\n",
       "      <td>0.0</td>\n",
       "      <td>0.0</td>\n",
       "      <td>0.866284</td>\n",
       "      <td>0.239027</td>\n",
       "      <td>0.356067</td>\n",
       "      <td>0.97561</td>\n",
       "      <td>0.182182</td>\n",
       "      <td>0.650655</td>\n",
       "      <td>1</td>\n",
       "    </tr>\n",
       "    <tr>\n",
       "      <th>4</th>\n",
       "      <td>0.656937</td>\n",
       "      <td>0.627607</td>\n",
       "      <td>0.000000</td>\n",
       "      <td>0.077364</td>\n",
       "      <td>0.000000</td>\n",
       "      <td>0.496723</td>\n",
       "      <td>1.0</td>\n",
       "      <td>0.805214</td>\n",
       "      <td>0.067969</td>\n",
       "      <td>0.546627</td>\n",
       "      <td>...</td>\n",
       "      <td>1.0</td>\n",
       "      <td>0.5</td>\n",
       "      <td>1.0</td>\n",
       "      <td>0.694637</td>\n",
       "      <td>0.239027</td>\n",
       "      <td>0.356067</td>\n",
       "      <td>0.97561</td>\n",
       "      <td>0.182182</td>\n",
       "      <td>0.650655</td>\n",
       "      <td>0</td>\n",
       "    </tr>\n",
       "    <tr>\n",
       "      <th>...</th>\n",
       "      <td>...</td>\n",
       "      <td>...</td>\n",
       "      <td>...</td>\n",
       "      <td>...</td>\n",
       "      <td>...</td>\n",
       "      <td>...</td>\n",
       "      <td>...</td>\n",
       "      <td>...</td>\n",
       "      <td>...</td>\n",
       "      <td>...</td>\n",
       "      <td>...</td>\n",
       "      <td>...</td>\n",
       "      <td>...</td>\n",
       "      <td>...</td>\n",
       "      <td>...</td>\n",
       "      <td>...</td>\n",
       "      <td>...</td>\n",
       "      <td>...</td>\n",
       "      <td>...</td>\n",
       "      <td>...</td>\n",
       "      <td>...</td>\n",
       "    </tr>\n",
       "    <tr>\n",
       "      <th>3106</th>\n",
       "      <td>0.505164</td>\n",
       "      <td>0.501044</td>\n",
       "      <td>0.144278</td>\n",
       "      <td>0.115629</td>\n",
       "      <td>0.269147</td>\n",
       "      <td>0.462915</td>\n",
       "      <td>1.0</td>\n",
       "      <td>0.547183</td>\n",
       "      <td>0.103255</td>\n",
       "      <td>0.185312</td>\n",
       "      <td>...</td>\n",
       "      <td>1.0</td>\n",
       "      <td>0.5</td>\n",
       "      <td>1.0</td>\n",
       "      <td>0.742429</td>\n",
       "      <td>0.737164</td>\n",
       "      <td>0.269593</td>\n",
       "      <td>0.97561</td>\n",
       "      <td>0.639636</td>\n",
       "      <td>0.755459</td>\n",
       "      <td>0</td>\n",
       "    </tr>\n",
       "    <tr>\n",
       "      <th>3107</th>\n",
       "      <td>0.419075</td>\n",
       "      <td>0.479698</td>\n",
       "      <td>0.129756</td>\n",
       "      <td>0.099920</td>\n",
       "      <td>0.259097</td>\n",
       "      <td>0.463688</td>\n",
       "      <td>1.0</td>\n",
       "      <td>0.480785</td>\n",
       "      <td>0.118558</td>\n",
       "      <td>0.555160</td>\n",
       "      <td>...</td>\n",
       "      <td>1.0</td>\n",
       "      <td>0.5</td>\n",
       "      <td>1.0</td>\n",
       "      <td>0.742429</td>\n",
       "      <td>0.737164</td>\n",
       "      <td>0.269593</td>\n",
       "      <td>0.97561</td>\n",
       "      <td>0.639636</td>\n",
       "      <td>0.755459</td>\n",
       "      <td>0</td>\n",
       "    </tr>\n",
       "    <tr>\n",
       "      <th>3108</th>\n",
       "      <td>0.419075</td>\n",
       "      <td>0.479698</td>\n",
       "      <td>0.129756</td>\n",
       "      <td>0.099920</td>\n",
       "      <td>0.259097</td>\n",
       "      <td>0.463688</td>\n",
       "      <td>1.0</td>\n",
       "      <td>0.480785</td>\n",
       "      <td>0.118558</td>\n",
       "      <td>0.555160</td>\n",
       "      <td>...</td>\n",
       "      <td>1.0</td>\n",
       "      <td>0.5</td>\n",
       "      <td>1.0</td>\n",
       "      <td>0.742429</td>\n",
       "      <td>0.737164</td>\n",
       "      <td>0.269593</td>\n",
       "      <td>0.97561</td>\n",
       "      <td>0.639636</td>\n",
       "      <td>0.755459</td>\n",
       "      <td>0</td>\n",
       "    </tr>\n",
       "    <tr>\n",
       "      <th>3109</th>\n",
       "      <td>0.419075</td>\n",
       "      <td>0.479698</td>\n",
       "      <td>0.129756</td>\n",
       "      <td>0.099920</td>\n",
       "      <td>0.259097</td>\n",
       "      <td>0.463688</td>\n",
       "      <td>1.0</td>\n",
       "      <td>0.480785</td>\n",
       "      <td>0.118558</td>\n",
       "      <td>0.555160</td>\n",
       "      <td>...</td>\n",
       "      <td>1.0</td>\n",
       "      <td>0.5</td>\n",
       "      <td>1.0</td>\n",
       "      <td>0.742429</td>\n",
       "      <td>0.737164</td>\n",
       "      <td>0.269593</td>\n",
       "      <td>0.97561</td>\n",
       "      <td>0.639636</td>\n",
       "      <td>0.755459</td>\n",
       "      <td>0</td>\n",
       "    </tr>\n",
       "    <tr>\n",
       "      <th>3110</th>\n",
       "      <td>0.419075</td>\n",
       "      <td>0.479698</td>\n",
       "      <td>0.129756</td>\n",
       "      <td>0.099920</td>\n",
       "      <td>0.259097</td>\n",
       "      <td>0.463688</td>\n",
       "      <td>1.0</td>\n",
       "      <td>0.480785</td>\n",
       "      <td>0.118558</td>\n",
       "      <td>0.555160</td>\n",
       "      <td>...</td>\n",
       "      <td>1.0</td>\n",
       "      <td>0.5</td>\n",
       "      <td>1.0</td>\n",
       "      <td>0.742429</td>\n",
       "      <td>0.737164</td>\n",
       "      <td>0.269593</td>\n",
       "      <td>0.97561</td>\n",
       "      <td>0.639636</td>\n",
       "      <td>0.755459</td>\n",
       "      <td>0</td>\n",
       "    </tr>\n",
       "  </tbody>\n",
       "</table>\n",
       "<p>3111 rows × 80 columns</p>\n",
       "</div>"
      ],
      "text/plain": [
       "      Attribute 1  Attribute 2  Attribute 3  Attribute 4  Attribute 5  \\\n",
       "0        0.328470     0.621909     0.681941     0.077886     0.000000   \n",
       "1        0.000000     0.000000     0.681941     0.000000     0.000000   \n",
       "2        0.325102     0.517464     0.000000     0.059524     0.000000   \n",
       "3        0.346195     0.478459     0.095400     0.038364     0.000000   \n",
       "4        0.656937     0.627607     0.000000     0.077364     0.000000   \n",
       "...           ...          ...          ...          ...          ...   \n",
       "3106     0.505164     0.501044     0.144278     0.115629     0.269147   \n",
       "3107     0.419075     0.479698     0.129756     0.099920     0.259097   \n",
       "3108     0.419075     0.479698     0.129756     0.099920     0.259097   \n",
       "3109     0.419075     0.479698     0.129756     0.099920     0.259097   \n",
       "3110     0.419075     0.479698     0.129756     0.099920     0.259097   \n",
       "\n",
       "      Attribute 6  Attribute 7  Attribute 8  Attribute 9  Attribute 10  ...  \\\n",
       "0        0.466059          1.0     1.000000     0.031412      0.894724  ...   \n",
       "1        0.000000          0.0     0.000000     0.000000      0.000000  ...   \n",
       "2        0.467174          1.0     0.641464     0.070322      0.587853  ...   \n",
       "3        0.459010          1.0     0.476235     0.000138      0.515098  ...   \n",
       "4        0.496723          1.0     0.805214     0.067969      0.546627  ...   \n",
       "...           ...          ...          ...          ...           ...  ...   \n",
       "3106     0.462915          1.0     0.547183     0.103255      0.185312  ...   \n",
       "3107     0.463688          1.0     0.480785     0.118558      0.555160  ...   \n",
       "3108     0.463688          1.0     0.480785     0.118558      0.555160  ...   \n",
       "3109     0.463688          1.0     0.480785     0.118558      0.555160  ...   \n",
       "3110     0.463688          1.0     0.480785     0.118558      0.555160  ...   \n",
       "\n",
       "      Attribute 71  Attribute 72  Attribute 73  Attribute 74  Attribute 75  \\\n",
       "0              0.2           0.0           0.0      0.626321      0.239027   \n",
       "1              0.2           0.0           0.0      0.694637      0.239027   \n",
       "2              1.0           0.5           1.0      0.721803      0.239027   \n",
       "3              0.2           0.0           0.0      0.866284      0.239027   \n",
       "4              1.0           0.5           1.0      0.694637      0.239027   \n",
       "...            ...           ...           ...           ...           ...   \n",
       "3106           1.0           0.5           1.0      0.742429      0.737164   \n",
       "3107           1.0           0.5           1.0      0.742429      0.737164   \n",
       "3108           1.0           0.5           1.0      0.742429      0.737164   \n",
       "3109           1.0           0.5           1.0      0.742429      0.737164   \n",
       "3110           1.0           0.5           1.0      0.742429      0.737164   \n",
       "\n",
       "      Attribute 76  Attribute 77  Attribute 78  Attribute 79  Y  \n",
       "0         0.356067       0.97561      0.182182      0.650655  1  \n",
       "1         0.356067       0.97561      0.182182      0.650655  0  \n",
       "2         0.356067       0.97561      0.182182      0.650655  0  \n",
       "3         0.356067       0.97561      0.182182      0.650655  1  \n",
       "4         0.356067       0.97561      0.182182      0.650655  0  \n",
       "...            ...           ...           ...           ... ..  \n",
       "3106      0.269593       0.97561      0.639636      0.755459  0  \n",
       "3107      0.269593       0.97561      0.639636      0.755459  0  \n",
       "3108      0.269593       0.97561      0.639636      0.755459  0  \n",
       "3109      0.269593       0.97561      0.639636      0.755459  0  \n",
       "3110      0.269593       0.97561      0.639636      0.755459  0  \n",
       "\n",
       "[3111 rows x 80 columns]"
      ]
     },
     "execution_count": 2,
     "metadata": {},
     "output_type": "execute_result"
    }
   ],
   "source": [
    "df= pd.read_csv('Chinese database.csv') \n",
    "df"
   ]
  },
  {
   "cell_type": "code",
   "execution_count": 3,
   "metadata": {},
   "outputs": [
    {
     "data": {
      "text/plain": [
       "(3111, 80)"
      ]
     },
     "execution_count": 3,
     "metadata": {},
     "output_type": "execute_result"
    }
   ],
   "source": [
    "df.shape"
   ]
  },
  {
   "cell_type": "code",
   "execution_count": 4,
   "metadata": {},
   "outputs": [],
   "source": [
    "X = df.iloc[:, 0:79]\n",
    "y = df.iloc[:, 79]"
   ]
  },
  {
   "cell_type": "markdown",
   "metadata": {},
   "source": [
    "# LDA"
   ]
  },
  {
   "cell_type": "code",
   "execution_count": 5,
   "metadata": {},
   "outputs": [],
   "source": [
    "lda = LDA(n_components=1)\n",
    "lda_X = lda.fit(X,y).transform(X)"
   ]
  },
  {
   "cell_type": "code",
   "execution_count": 6,
   "metadata": {},
   "outputs": [],
   "source": [
    "\n",
    "#plt.scatter(lda_X[y == 0, 0],lda_X[y == 0, 0], s =80, c = 'orange', label = 'Type 0')\n",
    "#plt.scatter(lda_X[y == 1, 0],lda_X[y == 1, 0], s =80,  c = 'yellow', label = 'Type 1')\n",
    "#plt.scatter(lda_X[y == 2, 0], lda_X[y == 2, 1], s =80,  c = 'green', label = 'Type 2')\n",
    "#plt.title('LDA plot for Wine Dataset')\n",
    "#plt.legend()"
   ]
  },
  {
   "cell_type": "code",
   "execution_count": 7,
   "metadata": {},
   "outputs": [],
   "source": [
    "# Importing Libraries for Modelling.\n",
    "from sklearn import neighbors, datasets, preprocessing\n",
    "from sklearn.model_selection import train_test_split\n",
    "from sklearn.metrics import accuracy_score\n",
    "from sklearn.metrics import classification_report\n",
    "from sklearn.metrics import confusion_matrix"
   ]
  },
  {
   "cell_type": "code",
   "execution_count": 21,
   "metadata": {},
   "outputs": [],
   "source": [
    "X=lda_X\n",
    "y=y"
   ]
  },
  {
   "cell_type": "code",
   "execution_count": 22,
   "metadata": {},
   "outputs": [],
   "source": [
    "#Setting training and testing values\n",
    "\n",
    "Xtrain, Xtest, y_train, y_test = train_test_split(X, y)\n",
    "scaler = preprocessing.StandardScaler().fit(Xtrain)\n",
    "Xtrain = scaler.transform(Xtrain)\n",
    "Xtest = scaler.transform(Xtest)"
   ]
  },
  {
   "cell_type": "markdown",
   "metadata": {},
   "source": [
    "# Using KMN"
   ]
  },
  {
   "cell_type": "code",
   "execution_count": 23,
   "metadata": {},
   "outputs": [
    {
     "name": "stdout",
     "output_type": "stream",
     "text": [
      "Accuracy Score: 0.9794344473007712\n",
      "Confusion matrix \n",
      " [[756   3]\n",
      " [ 13   6]]\n",
      "Classification \n",
      "               precision    recall  f1-score   support\n",
      "\n",
      "           0       0.98      1.00      0.99       759\n",
      "           1       0.67      0.32      0.43        19\n",
      "\n",
      "    accuracy                           0.98       778\n",
      "   macro avg       0.82      0.66      0.71       778\n",
      "weighted avg       0.98      0.98      0.98       778\n",
      "\n"
     ]
    }
   ],
   "source": [
    "# Modeling is done using KNN classifiers.\n",
    "knn = neighbors.KNeighborsClassifier(n_neighbors=2)\n",
    "knn.fit(Xtrain, y_train)\n",
    "y_pred = knn.predict(Xtest)\n",
    "\n",
    "\n",
    "# Display the Output\n",
    "\n",
    "print('Accuracy Score:', accuracy_score(y_test, y_pred))\n",
    "print('Confusion matrix \\n',  confusion_matrix(y_test, y_pred))\n",
    "print('Classification \\n', classification_report(y_test, y_pred))"
   ]
  },
  {
   "cell_type": "markdown",
   "metadata": {},
   "source": [
    "# Logistic Regression Accuracy"
   ]
  },
  {
   "cell_type": "code",
   "execution_count": 24,
   "metadata": {},
   "outputs": [
    {
     "name": "stdout",
     "output_type": "stream",
     "text": [
      "Logistic Regression :\n",
      "Accuracy =  0.9755784061696658\n",
      "[[753   6]\n",
      " [ 13   6]]\n"
     ]
    }
   ],
   "source": [
    "#Logistic Regression\n",
    "from sklearn.metrics import confusion_matrix\n",
    "from sklearn.metrics import accuracy_score\n",
    "\n",
    "from sklearn.linear_model import LogisticRegression\n",
    "classifier = LogisticRegression()\n",
    "classifier.fit(Xtrain,y_train)\n",
    "y_pred = classifier.predict(Xtest)\n",
    "cm = confusion_matrix(y_test,y_pred)\n",
    "accuracy = accuracy_score(y_test,y_pred)\n",
    "print(\"Logistic Regression :\")\n",
    "print(\"Accuracy = \", accuracy)\n",
    "print(cm)"
   ]
  },
  {
   "cell_type": "markdown",
   "metadata": {},
   "source": [
    "# LR Cohen Kappa Accuracy"
   ]
  },
  {
   "cell_type": "code",
   "execution_count": 25,
   "metadata": {},
   "outputs": [
    {
     "data": {
      "text/plain": [
       "0.37528526751753866"
      ]
     },
     "execution_count": 25,
     "metadata": {},
     "output_type": "execute_result"
    }
   ],
   "source": [
    "from sklearn.metrics import cohen_kappa_score\n",
    "cluster = cohen_kappa_score(y_test, y_pred)\n",
    "cluster"
   ]
  },
  {
   "cell_type": "markdown",
   "metadata": {},
   "source": [
    "# Support Vector Machine Accuracy"
   ]
  },
  {
   "cell_type": "code",
   "execution_count": 26,
   "metadata": {},
   "outputs": [],
   "source": [
    "Xtrain, Xtest, y_train, y_test = train_test_split(X, y, test_size=0.2, random_state=0)"
   ]
  },
  {
   "cell_type": "code",
   "execution_count": 27,
   "metadata": {},
   "outputs": [
    {
     "name": "stdout",
     "output_type": "stream",
     "text": [
      "Support Vector Machine:\n",
      "Accuracy =  0.9823434991974318\n",
      "[[608   1]\n",
      " [ 10   4]]\n"
     ]
    }
   ],
   "source": [
    "#Support Vector Machine\n",
    "from sklearn.svm import SVC\n",
    "classifier = SVC()\n",
    "classifier.fit(Xtrain,y_train)\n",
    "y_pred = classifier.predict(Xtest)\n",
    "cm = confusion_matrix(y_test,y_pred)\n",
    "accuracy = accuracy_score(y_test,y_pred)\n",
    "print(\"Support Vector Machine:\")\n",
    "print(\"Accuracy = \", accuracy)\n",
    "print(cm)"
   ]
  },
  {
   "cell_type": "markdown",
   "metadata": {},
   "source": [
    "# Gaussian Naive Bayes Accuracy"
   ]
  },
  {
   "cell_type": "code",
   "execution_count": 28,
   "metadata": {},
   "outputs": [
    {
     "name": "stdout",
     "output_type": "stream",
     "text": [
      "Gaussian Naive Bayes :\n",
      "Accuracy =  0.9727126805778491\n",
      "[[599  10]\n",
      " [  7   7]]\n"
     ]
    }
   ],
   "source": [
    "from sklearn.naive_bayes import GaussianNB\n",
    "classifier = GaussianNB()\n",
    "classifier.fit(Xtrain,y_train)\n",
    "y_pred = classifier.predict(Xtest)\n",
    "cm = confusion_matrix(y_test,y_pred)\n",
    "accuracy = accuracy_score(y_test,y_pred)\n",
    "print(\"Gaussian Naive Bayes :\")\n",
    "print(\"Accuracy = \", accuracy)\n",
    "print(cm)"
   ]
  },
  {
   "cell_type": "markdown",
   "metadata": {},
   "source": [
    "# Decision Tree Classifier Accuracy"
   ]
  },
  {
   "cell_type": "code",
   "execution_count": 29,
   "metadata": {},
   "outputs": [],
   "source": [
    "Xtrain, Xtest, y_train, y_test = train_test_split(X, y, test_size=0.2, random_state=0)"
   ]
  },
  {
   "cell_type": "code",
   "execution_count": 30,
   "metadata": {},
   "outputs": [
    {
     "name": "stdout",
     "output_type": "stream",
     "text": [
      "Decision Tree Classifier :\n",
      "Accuracy =  0.9727126805778491\n",
      "[[604   5]\n",
      " [  8   6]]\n"
     ]
    }
   ],
   "source": [
    "from sklearn.model_selection import train_test_split\n",
    "\n",
    "\n",
    "from sklearn.tree import DecisionTreeClassifier as DT\n",
    "from sklearn.metrics import confusion_matrix\n",
    "from sklearn.metrics import accuracy_score\n",
    "\n",
    "classifier = DT(criterion='entropy', random_state=0)\n",
    "classifier.fit(Xtrain,y_train)\n",
    "y_pred = classifier.predict(Xtest)\n",
    "cm = confusion_matrix(y_test,y_pred)\n",
    "print(\"Decision Tree Classifier :\")\n",
    "print(\"Accuracy = \", accuracy)\n",
    "print(cm)"
   ]
  },
  {
   "cell_type": "markdown",
   "metadata": {},
   "source": [
    "# Random Forest Classifier Accuracy"
   ]
  },
  {
   "cell_type": "code",
   "execution_count": 31,
   "metadata": {},
   "outputs": [
    {
     "name": "stdout",
     "output_type": "stream",
     "text": [
      "Random Forest Classifier :\n",
      "Accuracy =  0.9727126805778491\n",
      "[[605   4]\n",
      " [  8   6]]\n"
     ]
    }
   ],
   "source": [
    "#Random Forest Classifier\n",
    "from sklearn.ensemble import RandomForestClassifier as RF\n",
    "classifier = RF(n_estimators=10, criterion='entropy', random_state=0)\n",
    "classifier.fit(Xtrain,y_train)\n",
    "y_pred = classifier.predict(Xtest)\n",
    "cm = confusion_matrix(y_test,y_pred)\n",
    "print(\"Random Forest Classifier :\")\n",
    "print(\"Accuracy = \", accuracy)\n",
    "print(cm)"
   ]
  },
  {
   "cell_type": "code",
   "execution_count": null,
   "metadata": {},
   "outputs": [],
   "source": []
  },
  {
   "cell_type": "code",
   "execution_count": null,
   "metadata": {},
   "outputs": [],
   "source": []
  }
 ],
 "metadata": {
  "kernelspec": {
   "display_name": "Python 3",
   "language": "python",
   "name": "python3"
  },
  "language_info": {
   "codemirror_mode": {
    "name": "ipython",
    "version": 3
   },
   "file_extension": ".py",
   "mimetype": "text/x-python",
   "name": "python",
   "nbconvert_exporter": "python",
   "pygments_lexer": "ipython3",
   "version": "3.8.3"
  }
 },
 "nbformat": 4,
 "nbformat_minor": 4
}
