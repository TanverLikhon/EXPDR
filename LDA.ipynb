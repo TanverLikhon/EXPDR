{
 "cells": [
  {
   "cell_type": "code",
   "execution_count": 1,
   "metadata": {},
   "outputs": [],
   "source": [
    "import numpy as np\n",
    "import pandas as pd\n",
    "import matplotlib.pyplot as plt\n",
    "from sklearn import datasets\n",
    "from sklearn.decomposition import PCA\n",
    "from sklearn.discriminant_analysis import LinearDiscriminantAnalysis"
   ]
  },
  {
   "cell_type": "code",
   "execution_count": 2,
   "metadata": {},
   "outputs": [],
   "source": [
    "colors = ['royalblue','red','deeppink', 'maroon', 'mediumorchid', 'tan', 'forestgreen', 'olive', 'goldenrod', 'lightcyan', 'navy']\n",
    "vectorizer = np.vectorize(lambda x: colors[x % len(colors)])\n"
   ]
  },
  {
   "cell_type": "code",
   "execution_count": 3,
   "metadata": {},
   "outputs": [
    {
     "data": {
      "text/html": [
       "<div>\n",
       "<style scoped>\n",
       "    .dataframe tbody tr th:only-of-type {\n",
       "        vertical-align: middle;\n",
       "    }\n",
       "\n",
       "    .dataframe tbody tr th {\n",
       "        vertical-align: top;\n",
       "    }\n",
       "\n",
       "    .dataframe thead th {\n",
       "        text-align: right;\n",
       "    }\n",
       "</style>\n",
       "<table border=\"1\" class=\"dataframe\">\n",
       "  <thead>\n",
       "    <tr style=\"text-align: right;\">\n",
       "      <th></th>\n",
       "      <th>Attribute 1</th>\n",
       "      <th>Attribute 2</th>\n",
       "      <th>Attribute 3</th>\n",
       "      <th>Attribute 4</th>\n",
       "      <th>Attribute 5</th>\n",
       "      <th>Attribute 6</th>\n",
       "      <th>Attribute 7</th>\n",
       "      <th>Attribute 8</th>\n",
       "      <th>Attribute 9</th>\n",
       "      <th>Attribute 10</th>\n",
       "      <th>...</th>\n",
       "      <th>Attribute 71</th>\n",
       "      <th>Attribute 72</th>\n",
       "      <th>Attribute 73</th>\n",
       "      <th>Attribute 74</th>\n",
       "      <th>Attribute 75</th>\n",
       "      <th>Attribute 76</th>\n",
       "      <th>Attribute 77</th>\n",
       "      <th>Attribute 78</th>\n",
       "      <th>Attribute 79</th>\n",
       "      <th>Y</th>\n",
       "    </tr>\n",
       "  </thead>\n",
       "  <tbody>\n",
       "    <tr>\n",
       "      <th>0</th>\n",
       "      <td>0.328470</td>\n",
       "      <td>0.621909</td>\n",
       "      <td>0.681941</td>\n",
       "      <td>0.077886</td>\n",
       "      <td>0.000000</td>\n",
       "      <td>0.466059</td>\n",
       "      <td>1.0</td>\n",
       "      <td>1.000000</td>\n",
       "      <td>0.031412</td>\n",
       "      <td>0.894724</td>\n",
       "      <td>...</td>\n",
       "      <td>0.2</td>\n",
       "      <td>0.0</td>\n",
       "      <td>0.0</td>\n",
       "      <td>0.626321</td>\n",
       "      <td>0.239027</td>\n",
       "      <td>0.356067</td>\n",
       "      <td>0.97561</td>\n",
       "      <td>0.182182</td>\n",
       "      <td>0.650655</td>\n",
       "      <td>1</td>\n",
       "    </tr>\n",
       "    <tr>\n",
       "      <th>1</th>\n",
       "      <td>0.000000</td>\n",
       "      <td>0.000000</td>\n",
       "      <td>0.681941</td>\n",
       "      <td>0.000000</td>\n",
       "      <td>0.000000</td>\n",
       "      <td>0.000000</td>\n",
       "      <td>0.0</td>\n",
       "      <td>0.000000</td>\n",
       "      <td>0.000000</td>\n",
       "      <td>0.000000</td>\n",
       "      <td>...</td>\n",
       "      <td>0.2</td>\n",
       "      <td>0.0</td>\n",
       "      <td>0.0</td>\n",
       "      <td>0.694637</td>\n",
       "      <td>0.239027</td>\n",
       "      <td>0.356067</td>\n",
       "      <td>0.97561</td>\n",
       "      <td>0.182182</td>\n",
       "      <td>0.650655</td>\n",
       "      <td>0</td>\n",
       "    </tr>\n",
       "    <tr>\n",
       "      <th>2</th>\n",
       "      <td>0.325102</td>\n",
       "      <td>0.517464</td>\n",
       "      <td>0.000000</td>\n",
       "      <td>0.059524</td>\n",
       "      <td>0.000000</td>\n",
       "      <td>0.467174</td>\n",
       "      <td>1.0</td>\n",
       "      <td>0.641464</td>\n",
       "      <td>0.070322</td>\n",
       "      <td>0.587853</td>\n",
       "      <td>...</td>\n",
       "      <td>1.0</td>\n",
       "      <td>0.5</td>\n",
       "      <td>1.0</td>\n",
       "      <td>0.721803</td>\n",
       "      <td>0.239027</td>\n",
       "      <td>0.356067</td>\n",
       "      <td>0.97561</td>\n",
       "      <td>0.182182</td>\n",
       "      <td>0.650655</td>\n",
       "      <td>0</td>\n",
       "    </tr>\n",
       "    <tr>\n",
       "      <th>3</th>\n",
       "      <td>0.346195</td>\n",
       "      <td>0.478459</td>\n",
       "      <td>0.095400</td>\n",
       "      <td>0.038364</td>\n",
       "      <td>0.000000</td>\n",
       "      <td>0.459010</td>\n",
       "      <td>1.0</td>\n",
       "      <td>0.476235</td>\n",
       "      <td>0.000138</td>\n",
       "      <td>0.515098</td>\n",
       "      <td>...</td>\n",
       "      <td>0.2</td>\n",
       "      <td>0.0</td>\n",
       "      <td>0.0</td>\n",
       "      <td>0.866284</td>\n",
       "      <td>0.239027</td>\n",
       "      <td>0.356067</td>\n",
       "      <td>0.97561</td>\n",
       "      <td>0.182182</td>\n",
       "      <td>0.650655</td>\n",
       "      <td>1</td>\n",
       "    </tr>\n",
       "    <tr>\n",
       "      <th>4</th>\n",
       "      <td>0.656937</td>\n",
       "      <td>0.627607</td>\n",
       "      <td>0.000000</td>\n",
       "      <td>0.077364</td>\n",
       "      <td>0.000000</td>\n",
       "      <td>0.496723</td>\n",
       "      <td>1.0</td>\n",
       "      <td>0.805214</td>\n",
       "      <td>0.067969</td>\n",
       "      <td>0.546627</td>\n",
       "      <td>...</td>\n",
       "      <td>1.0</td>\n",
       "      <td>0.5</td>\n",
       "      <td>1.0</td>\n",
       "      <td>0.694637</td>\n",
       "      <td>0.239027</td>\n",
       "      <td>0.356067</td>\n",
       "      <td>0.97561</td>\n",
       "      <td>0.182182</td>\n",
       "      <td>0.650655</td>\n",
       "      <td>0</td>\n",
       "    </tr>\n",
       "    <tr>\n",
       "      <th>...</th>\n",
       "      <td>...</td>\n",
       "      <td>...</td>\n",
       "      <td>...</td>\n",
       "      <td>...</td>\n",
       "      <td>...</td>\n",
       "      <td>...</td>\n",
       "      <td>...</td>\n",
       "      <td>...</td>\n",
       "      <td>...</td>\n",
       "      <td>...</td>\n",
       "      <td>...</td>\n",
       "      <td>...</td>\n",
       "      <td>...</td>\n",
       "      <td>...</td>\n",
       "      <td>...</td>\n",
       "      <td>...</td>\n",
       "      <td>...</td>\n",
       "      <td>...</td>\n",
       "      <td>...</td>\n",
       "      <td>...</td>\n",
       "      <td>...</td>\n",
       "    </tr>\n",
       "    <tr>\n",
       "      <th>3106</th>\n",
       "      <td>0.505164</td>\n",
       "      <td>0.501044</td>\n",
       "      <td>0.144278</td>\n",
       "      <td>0.115629</td>\n",
       "      <td>0.269147</td>\n",
       "      <td>0.462915</td>\n",
       "      <td>1.0</td>\n",
       "      <td>0.547183</td>\n",
       "      <td>0.103255</td>\n",
       "      <td>0.185312</td>\n",
       "      <td>...</td>\n",
       "      <td>1.0</td>\n",
       "      <td>0.5</td>\n",
       "      <td>1.0</td>\n",
       "      <td>0.742429</td>\n",
       "      <td>0.737164</td>\n",
       "      <td>0.269593</td>\n",
       "      <td>0.97561</td>\n",
       "      <td>0.639636</td>\n",
       "      <td>0.755459</td>\n",
       "      <td>0</td>\n",
       "    </tr>\n",
       "    <tr>\n",
       "      <th>3107</th>\n",
       "      <td>0.419075</td>\n",
       "      <td>0.479698</td>\n",
       "      <td>0.129756</td>\n",
       "      <td>0.099920</td>\n",
       "      <td>0.259097</td>\n",
       "      <td>0.463688</td>\n",
       "      <td>1.0</td>\n",
       "      <td>0.480785</td>\n",
       "      <td>0.118558</td>\n",
       "      <td>0.555160</td>\n",
       "      <td>...</td>\n",
       "      <td>1.0</td>\n",
       "      <td>0.5</td>\n",
       "      <td>1.0</td>\n",
       "      <td>0.742429</td>\n",
       "      <td>0.737164</td>\n",
       "      <td>0.269593</td>\n",
       "      <td>0.97561</td>\n",
       "      <td>0.639636</td>\n",
       "      <td>0.755459</td>\n",
       "      <td>0</td>\n",
       "    </tr>\n",
       "    <tr>\n",
       "      <th>3108</th>\n",
       "      <td>0.419075</td>\n",
       "      <td>0.479698</td>\n",
       "      <td>0.129756</td>\n",
       "      <td>0.099920</td>\n",
       "      <td>0.259097</td>\n",
       "      <td>0.463688</td>\n",
       "      <td>1.0</td>\n",
       "      <td>0.480785</td>\n",
       "      <td>0.118558</td>\n",
       "      <td>0.555160</td>\n",
       "      <td>...</td>\n",
       "      <td>1.0</td>\n",
       "      <td>0.5</td>\n",
       "      <td>1.0</td>\n",
       "      <td>0.742429</td>\n",
       "      <td>0.737164</td>\n",
       "      <td>0.269593</td>\n",
       "      <td>0.97561</td>\n",
       "      <td>0.639636</td>\n",
       "      <td>0.755459</td>\n",
       "      <td>0</td>\n",
       "    </tr>\n",
       "    <tr>\n",
       "      <th>3109</th>\n",
       "      <td>0.419075</td>\n",
       "      <td>0.479698</td>\n",
       "      <td>0.129756</td>\n",
       "      <td>0.099920</td>\n",
       "      <td>0.259097</td>\n",
       "      <td>0.463688</td>\n",
       "      <td>1.0</td>\n",
       "      <td>0.480785</td>\n",
       "      <td>0.118558</td>\n",
       "      <td>0.555160</td>\n",
       "      <td>...</td>\n",
       "      <td>1.0</td>\n",
       "      <td>0.5</td>\n",
       "      <td>1.0</td>\n",
       "      <td>0.742429</td>\n",
       "      <td>0.737164</td>\n",
       "      <td>0.269593</td>\n",
       "      <td>0.97561</td>\n",
       "      <td>0.639636</td>\n",
       "      <td>0.755459</td>\n",
       "      <td>0</td>\n",
       "    </tr>\n",
       "    <tr>\n",
       "      <th>3110</th>\n",
       "      <td>0.419075</td>\n",
       "      <td>0.479698</td>\n",
       "      <td>0.129756</td>\n",
       "      <td>0.099920</td>\n",
       "      <td>0.259097</td>\n",
       "      <td>0.463688</td>\n",
       "      <td>1.0</td>\n",
       "      <td>0.480785</td>\n",
       "      <td>0.118558</td>\n",
       "      <td>0.555160</td>\n",
       "      <td>...</td>\n",
       "      <td>1.0</td>\n",
       "      <td>0.5</td>\n",
       "      <td>1.0</td>\n",
       "      <td>0.742429</td>\n",
       "      <td>0.737164</td>\n",
       "      <td>0.269593</td>\n",
       "      <td>0.97561</td>\n",
       "      <td>0.639636</td>\n",
       "      <td>0.755459</td>\n",
       "      <td>0</td>\n",
       "    </tr>\n",
       "  </tbody>\n",
       "</table>\n",
       "<p>3111 rows × 80 columns</p>\n",
       "</div>"
      ],
      "text/plain": [
       "      Attribute 1  Attribute 2  Attribute 3  Attribute 4  Attribute 5  \\\n",
       "0        0.328470     0.621909     0.681941     0.077886     0.000000   \n",
       "1        0.000000     0.000000     0.681941     0.000000     0.000000   \n",
       "2        0.325102     0.517464     0.000000     0.059524     0.000000   \n",
       "3        0.346195     0.478459     0.095400     0.038364     0.000000   \n",
       "4        0.656937     0.627607     0.000000     0.077364     0.000000   \n",
       "...           ...          ...          ...          ...          ...   \n",
       "3106     0.505164     0.501044     0.144278     0.115629     0.269147   \n",
       "3107     0.419075     0.479698     0.129756     0.099920     0.259097   \n",
       "3108     0.419075     0.479698     0.129756     0.099920     0.259097   \n",
       "3109     0.419075     0.479698     0.129756     0.099920     0.259097   \n",
       "3110     0.419075     0.479698     0.129756     0.099920     0.259097   \n",
       "\n",
       "      Attribute 6  Attribute 7  Attribute 8  Attribute 9  Attribute 10  ...  \\\n",
       "0        0.466059          1.0     1.000000     0.031412      0.894724  ...   \n",
       "1        0.000000          0.0     0.000000     0.000000      0.000000  ...   \n",
       "2        0.467174          1.0     0.641464     0.070322      0.587853  ...   \n",
       "3        0.459010          1.0     0.476235     0.000138      0.515098  ...   \n",
       "4        0.496723          1.0     0.805214     0.067969      0.546627  ...   \n",
       "...           ...          ...          ...          ...           ...  ...   \n",
       "3106     0.462915          1.0     0.547183     0.103255      0.185312  ...   \n",
       "3107     0.463688          1.0     0.480785     0.118558      0.555160  ...   \n",
       "3108     0.463688          1.0     0.480785     0.118558      0.555160  ...   \n",
       "3109     0.463688          1.0     0.480785     0.118558      0.555160  ...   \n",
       "3110     0.463688          1.0     0.480785     0.118558      0.555160  ...   \n",
       "\n",
       "      Attribute 71  Attribute 72  Attribute 73  Attribute 74  Attribute 75  \\\n",
       "0              0.2           0.0           0.0      0.626321      0.239027   \n",
       "1              0.2           0.0           0.0      0.694637      0.239027   \n",
       "2              1.0           0.5           1.0      0.721803      0.239027   \n",
       "3              0.2           0.0           0.0      0.866284      0.239027   \n",
       "4              1.0           0.5           1.0      0.694637      0.239027   \n",
       "...            ...           ...           ...           ...           ...   \n",
       "3106           1.0           0.5           1.0      0.742429      0.737164   \n",
       "3107           1.0           0.5           1.0      0.742429      0.737164   \n",
       "3108           1.0           0.5           1.0      0.742429      0.737164   \n",
       "3109           1.0           0.5           1.0      0.742429      0.737164   \n",
       "3110           1.0           0.5           1.0      0.742429      0.737164   \n",
       "\n",
       "      Attribute 76  Attribute 77  Attribute 78  Attribute 79  Y  \n",
       "0         0.356067       0.97561      0.182182      0.650655  1  \n",
       "1         0.356067       0.97561      0.182182      0.650655  0  \n",
       "2         0.356067       0.97561      0.182182      0.650655  0  \n",
       "3         0.356067       0.97561      0.182182      0.650655  1  \n",
       "4         0.356067       0.97561      0.182182      0.650655  0  \n",
       "...            ...           ...           ...           ... ..  \n",
       "3106      0.269593       0.97561      0.639636      0.755459  0  \n",
       "3107      0.269593       0.97561      0.639636      0.755459  0  \n",
       "3108      0.269593       0.97561      0.639636      0.755459  0  \n",
       "3109      0.269593       0.97561      0.639636      0.755459  0  \n",
       "3110      0.269593       0.97561      0.639636      0.755459  0  \n",
       "\n",
       "[3111 rows x 80 columns]"
      ]
     },
     "execution_count": 3,
     "metadata": {},
     "output_type": "execute_result"
    }
   ],
   "source": [
    "df= pd.read_csv('Chinese database.csv') \n",
    "df"
   ]
  },
  {
   "cell_type": "code",
   "execution_count": 4,
   "metadata": {},
   "outputs": [
    {
     "data": {
      "text/plain": [
       "(3111, 80)"
      ]
     },
     "execution_count": 4,
     "metadata": {},
     "output_type": "execute_result"
    }
   ],
   "source": [
    "df.shape"
   ]
  },
  {
   "cell_type": "code",
   "execution_count": 5,
   "metadata": {},
   "outputs": [],
   "source": [
    "X = df.iloc[:, 0:79].values \n",
    "y = df.iloc[:, 79].values "
   ]
  },
  {
   "cell_type": "markdown",
   "metadata": {},
   "source": [
    "# LDA"
   ]
  },
  {
   "cell_type": "code",
   "execution_count": 16,
   "metadata": {},
   "outputs": [],
   "source": [
    "lda=LinearDiscriminantAnalysis(n_components=1)\n",
    "X_r2=lda.fit(X,y).transform(X)#lda supervised jonno fit er parameter duita"
   ]
  },
  {
   "cell_type": "code",
   "execution_count": 17,
   "metadata": {},
   "outputs": [
    {
     "data": {
      "text/plain": [
       "array([1.])"
      ]
     },
     "execution_count": 17,
     "metadata": {},
     "output_type": "execute_result"
    }
   ],
   "source": [
    "lda.explained_variance_ratio_"
   ]
  },
  {
   "cell_type": "code",
   "execution_count": 26,
   "metadata": {},
   "outputs": [
    {
     "data": {
      "text/plain": [
       "<matplotlib.collections.PathCollection at 0x149f9c47070>"
      ]
     },
     "execution_count": 26,
     "metadata": {},
     "output_type": "execute_result"
    },
    {
     "data": {
      "image/png": "[encoded data removed]",
      "text/plain": [
       "<Figure size 432x288 with 1 Axes>"
      ]
     },
     "metadata": {
      "needs_background": "light"
     },
     "output_type": "display_data"
    }
   ],
   "source": [
    "plt.scatter(X_r2[:,0],X_r2[:,0],c=vectorizer(y))"
   ]
  },
  {
   "cell_type": "code",
   "execution_count": 18,
   "metadata": {},
   "outputs": [
    {
     "data": {
      "text/plain": [
       "LinearDiscriminantAnalysis(n_components=1)"
      ]
     },
     "execution_count": 18,
     "metadata": {},
     "output_type": "execute_result"
    }
   ],
   "source": [
    "from sklearn.model_selection import train_test_split\n",
    "X_train, X_test, y_train, y_test = train_test_split(X, y)\n",
    "lda = LinearDiscriminantAnalysis(n_components=1)\n",
    "lda.fit(X_train, y_train)"
   ]
  },
  {
   "cell_type": "code",
   "execution_count": 19,
   "metadata": {},
   "outputs": [
    {
     "name": "stdout",
     "output_type": "stream",
     "text": [
      "0.961439588688946\n"
     ]
    }
   ],
   "source": [
    "from sklearn.metrics import accuracy_score\n",
    "y_pred = lda.predict(X_test)\n",
    "print(accuracy_score(y_test, y_pred))"
   ]
  },
  {
   "cell_type": "code",
   "execution_count": 20,
   "metadata": {},
   "outputs": [
    {
     "data": {
      "text/plain": [
       "0.961439588688946"
      ]
     },
     "execution_count": 20,
     "metadata": {},
     "output_type": "execute_result"
    }
   ],
   "source": [
    "lda.score(X_test,y_test)"
   ]
  },
  {
   "cell_type": "code",
   "execution_count": null,
   "metadata": {},
   "outputs": [],
   "source": []
  }
 ],
 "metadata": {
  "kernelspec": {
   "display_name": "Python 3",
   "language": "python",
   "name": "python3"
  },
  "language_info": {
   "codemirror_mode": {
    "name": "ipython",
    "version": 3
   },
   "file_extension": ".py",
   "mimetype": "text/x-python",
   "name": "python",
   "nbconvert_exporter": "python",
   "pygments_lexer": "ipython3",
   "version": "3.8.3"
  }
 },
 "nbformat": 4,
 "nbformat_minor": 4
}
