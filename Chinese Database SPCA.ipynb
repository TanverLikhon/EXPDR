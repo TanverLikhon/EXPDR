{
 "cells": [
  {
   "cell_type": "code",
   "execution_count": 48,
   "metadata": {},
   "outputs": [
    {
     "name": "stdout",
     "output_type": "stream",
     "text": [
      "Automatically created module for IPython interactive environment\n"
     ]
    }
   ],
   "source": [
    "from scipy.io import loadmat\n",
    "import numpy as np\n",
    "import pandas as pd\n",
    "from time import time\n",
    "import logging\n",
    "import numpy as np\n",
    "import pandas as pd\n",
    "import seaborn as sns\n",
    "import scipy as cp\n",
    "\n",
    "from PIL import Image\n",
    "from matplotlib import pyplot as plt\n",
    "%matplotlib inline\n",
    "\n",
    "from sklearn.model_selection import train_test_split\n",
    "from sklearn.model_selection import GridSearchCV\n",
    "from sklearn.datasets import fetch_lfw_people\n",
    "from sklearn.metrics import classification_report\n",
    "from sklearn.metrics import confusion_matrix\n",
    "from sklearn.decomposition import PCA\n",
    "from sklearn.svm import SVC\n",
    "from sklearn.model_selection import cross_val_score\n",
    "from sklearn import neighbors, datasets, preprocessing\n",
    "\n",
    "print(__doc__)\n",
    "\n",
    "# Display progress logs on stdout\n",
    "logging.basicConfig(level=logging.INFO, format='%(asctime)s %(message)s')"
   ]
  },
  {
   "cell_type": "code",
   "execution_count": 2,
   "metadata": {},
   "outputs": [],
   "source": [
    "import warnings\n",
    "from sklearn.exceptions import DataConversionWarning\n",
    "warnings.filterwarnings(action='ignore', category=DataConversionWarning)"
   ]
  },
  {
   "cell_type": "code",
   "execution_count": 5,
   "metadata": {},
   "outputs": [],
   "source": [
    "# load mat file\n",
    "mat = pd.read_csv(\"Chinese database.csv\")\n"
   ]
  },
  {
   "cell_type": "code",
   "execution_count": 6,
   "metadata": {},
   "outputs": [
    {
     "data": {
      "text/html": [
       "<div>\n",
       "<style scoped>\n",
       "    .dataframe tbody tr th:only-of-type {\n",
       "        vertical-align: middle;\n",
       "    }\n",
       "\n",
       "    .dataframe tbody tr th {\n",
       "        vertical-align: top;\n",
       "    }\n",
       "\n",
       "    .dataframe thead th {\n",
       "        text-align: right;\n",
       "    }\n",
       "</style>\n",
       "<table border=\"1\" class=\"dataframe\">\n",
       "  <thead>\n",
       "    <tr style=\"text-align: right;\">\n",
       "      <th></th>\n",
       "      <th>Attribute 1</th>\n",
       "      <th>Attribute 2</th>\n",
       "      <th>Attribute 3</th>\n",
       "      <th>Attribute 4</th>\n",
       "      <th>Attribute 5</th>\n",
       "      <th>Attribute 6</th>\n",
       "      <th>Attribute 7</th>\n",
       "      <th>Attribute 8</th>\n",
       "      <th>Attribute 9</th>\n",
       "      <th>Attribute 10</th>\n",
       "      <th>...</th>\n",
       "      <th>Attribute 71</th>\n",
       "      <th>Attribute 72</th>\n",
       "      <th>Attribute 73</th>\n",
       "      <th>Attribute 74</th>\n",
       "      <th>Attribute 75</th>\n",
       "      <th>Attribute 76</th>\n",
       "      <th>Attribute 77</th>\n",
       "      <th>Attribute 78</th>\n",
       "      <th>Attribute 79</th>\n",
       "      <th>Y</th>\n",
       "    </tr>\n",
       "  </thead>\n",
       "  <tbody>\n",
       "    <tr>\n",
       "      <th>0</th>\n",
       "      <td>0.328470</td>\n",
       "      <td>0.621909</td>\n",
       "      <td>0.681941</td>\n",
       "      <td>0.077886</td>\n",
       "      <td>0.0</td>\n",
       "      <td>0.466059</td>\n",
       "      <td>1.0</td>\n",
       "      <td>1.000000</td>\n",
       "      <td>0.031412</td>\n",
       "      <td>0.894724</td>\n",
       "      <td>...</td>\n",
       "      <td>0.2</td>\n",
       "      <td>0.0</td>\n",
       "      <td>0.0</td>\n",
       "      <td>0.626321</td>\n",
       "      <td>0.239027</td>\n",
       "      <td>0.356067</td>\n",
       "      <td>0.97561</td>\n",
       "      <td>0.182182</td>\n",
       "      <td>0.650655</td>\n",
       "      <td>1</td>\n",
       "    </tr>\n",
       "    <tr>\n",
       "      <th>1</th>\n",
       "      <td>0.000000</td>\n",
       "      <td>0.000000</td>\n",
       "      <td>0.681941</td>\n",
       "      <td>0.000000</td>\n",
       "      <td>0.0</td>\n",
       "      <td>0.000000</td>\n",
       "      <td>0.0</td>\n",
       "      <td>0.000000</td>\n",
       "      <td>0.000000</td>\n",
       "      <td>0.000000</td>\n",
       "      <td>...</td>\n",
       "      <td>0.2</td>\n",
       "      <td>0.0</td>\n",
       "      <td>0.0</td>\n",
       "      <td>0.694637</td>\n",
       "      <td>0.239027</td>\n",
       "      <td>0.356067</td>\n",
       "      <td>0.97561</td>\n",
       "      <td>0.182182</td>\n",
       "      <td>0.650655</td>\n",
       "      <td>0</td>\n",
       "    </tr>\n",
       "    <tr>\n",
       "      <th>2</th>\n",
       "      <td>0.325102</td>\n",
       "      <td>0.517464</td>\n",
       "      <td>0.000000</td>\n",
       "      <td>0.059524</td>\n",
       "      <td>0.0</td>\n",
       "      <td>0.467174</td>\n",
       "      <td>1.0</td>\n",
       "      <td>0.641464</td>\n",
       "      <td>0.070322</td>\n",
       "      <td>0.587853</td>\n",
       "      <td>...</td>\n",
       "      <td>1.0</td>\n",
       "      <td>0.5</td>\n",
       "      <td>1.0</td>\n",
       "      <td>0.721803</td>\n",
       "      <td>0.239027</td>\n",
       "      <td>0.356067</td>\n",
       "      <td>0.97561</td>\n",
       "      <td>0.182182</td>\n",
       "      <td>0.650655</td>\n",
       "      <td>0</td>\n",
       "    </tr>\n",
       "    <tr>\n",
       "      <th>3</th>\n",
       "      <td>0.346195</td>\n",
       "      <td>0.478459</td>\n",
       "      <td>0.095400</td>\n",
       "      <td>0.038364</td>\n",
       "      <td>0.0</td>\n",
       "      <td>0.459010</td>\n",
       "      <td>1.0</td>\n",
       "      <td>0.476235</td>\n",
       "      <td>0.000138</td>\n",
       "      <td>0.515098</td>\n",
       "      <td>...</td>\n",
       "      <td>0.2</td>\n",
       "      <td>0.0</td>\n",
       "      <td>0.0</td>\n",
       "      <td>0.866284</td>\n",
       "      <td>0.239027</td>\n",
       "      <td>0.356067</td>\n",
       "      <td>0.97561</td>\n",
       "      <td>0.182182</td>\n",
       "      <td>0.650655</td>\n",
       "      <td>1</td>\n",
       "    </tr>\n",
       "    <tr>\n",
       "      <th>4</th>\n",
       "      <td>0.656937</td>\n",
       "      <td>0.627607</td>\n",
       "      <td>0.000000</td>\n",
       "      <td>0.077364</td>\n",
       "      <td>0.0</td>\n",
       "      <td>0.496723</td>\n",
       "      <td>1.0</td>\n",
       "      <td>0.805214</td>\n",
       "      <td>0.067969</td>\n",
       "      <td>0.546627</td>\n",
       "      <td>...</td>\n",
       "      <td>1.0</td>\n",
       "      <td>0.5</td>\n",
       "      <td>1.0</td>\n",
       "      <td>0.694637</td>\n",
       "      <td>0.239027</td>\n",
       "      <td>0.356067</td>\n",
       "      <td>0.97561</td>\n",
       "      <td>0.182182</td>\n",
       "      <td>0.650655</td>\n",
       "      <td>0</td>\n",
       "    </tr>\n",
       "  </tbody>\n",
       "</table>\n",
       "<p>5 rows × 80 columns</p>\n",
       "</div>"
      ],
      "text/plain": [
       "   Attribute 1  Attribute 2  Attribute 3  Attribute 4  Attribute 5  \\\n",
       "0     0.328470     0.621909     0.681941     0.077886          0.0   \n",
       "1     0.000000     0.000000     0.681941     0.000000          0.0   \n",
       "2     0.325102     0.517464     0.000000     0.059524          0.0   \n",
       "3     0.346195     0.478459     0.095400     0.038364          0.0   \n",
       "4     0.656937     0.627607     0.000000     0.077364          0.0   \n",
       "\n",
       "   Attribute 6  Attribute 7  Attribute 8  Attribute 9  Attribute 10  ...  \\\n",
       "0     0.466059          1.0     1.000000     0.031412      0.894724  ...   \n",
       "1     0.000000          0.0     0.000000     0.000000      0.000000  ...   \n",
       "2     0.467174          1.0     0.641464     0.070322      0.587853  ...   \n",
       "3     0.459010          1.0     0.476235     0.000138      0.515098  ...   \n",
       "4     0.496723          1.0     0.805214     0.067969      0.546627  ...   \n",
       "\n",
       "   Attribute 71  Attribute 72  Attribute 73  Attribute 74  Attribute 75  \\\n",
       "0           0.2           0.0           0.0      0.626321      0.239027   \n",
       "1           0.2           0.0           0.0      0.694637      0.239027   \n",
       "2           1.0           0.5           1.0      0.721803      0.239027   \n",
       "3           0.2           0.0           0.0      0.866284      0.239027   \n",
       "4           1.0           0.5           1.0      0.694637      0.239027   \n",
       "\n",
       "   Attribute 76  Attribute 77  Attribute 78  Attribute 79  Y  \n",
       "0      0.356067       0.97561      0.182182      0.650655  1  \n",
       "1      0.356067       0.97561      0.182182      0.650655  0  \n",
       "2      0.356067       0.97561      0.182182      0.650655  0  \n",
       "3      0.356067       0.97561      0.182182      0.650655  1  \n",
       "4      0.356067       0.97561      0.182182      0.650655  0  \n",
       "\n",
       "[5 rows x 80 columns]"
      ]
     },
     "execution_count": 6,
     "metadata": {},
     "output_type": "execute_result"
    }
   ],
   "source": [
    " mat.head()"
   ]
  },
  {
   "cell_type": "markdown",
   "metadata": {},
   "source": [
    "## load data"
   ]
  },
  {
   "cell_type": "code",
   "execution_count": 7,
   "metadata": {},
   "outputs": [],
   "source": [
    "#X_train = mat['train']\n",
    "#X_test = mat['test']\n",
    "#y_train = mat['train_label']\n",
    "#y_test = mat['test_label']\n",
    "\n",
    "#X_train.shape, y_train.shape, X_test.shape, y_test.shape"
   ]
  },
  {
   "cell_type": "markdown",
   "metadata": {},
   "source": [
    "## Data concatenation : train + test = Data"
   ]
  },
  {
   "cell_type": "code",
   "execution_count": 9,
   "metadata": {},
   "outputs": [
    {
     "data": {
      "text/plain": [
       "(3111, 80)"
      ]
     },
     "execution_count": 9,
     "metadata": {},
     "output_type": "execute_result"
    }
   ],
   "source": [
    "Data=mat\n",
    "Data.shape"
   ]
  },
  {
   "cell_type": "markdown",
   "metadata": {},
   "source": [
    "## Divide data into three segement"
   ]
  },
  {
   "cell_type": "code",
   "execution_count": 29,
   "metadata": {},
   "outputs": [
    {
     "data": {
      "text/plain": [
       "((3111, 20), (3111, 30), (3111, 29), (3111, 1))"
      ]
     },
     "execution_count": 29,
     "metadata": {},
     "output_type": "execute_result"
    }
   ],
   "source": [
    "D1 = Data.iloc[:, :20]\n",
    "D2 = Data.iloc[:, 20:50]\n",
    "D3 = Data.iloc[:, 50:79]\n",
    "label=Data.iloc[:,79:]\n",
    "\n",
    "D1.shape, D2.shape, D3.shape,label.shape"
   ]
  },
  {
   "cell_type": "code",
   "execution_count": null,
   "metadata": {},
   "outputs": [],
   "source": []
  },
  {
   "cell_type": "markdown",
   "metadata": {},
   "source": [
    "## PCA: Data"
   ]
  },
  {
   "cell_type": "code",
   "execution_count": 30,
   "metadata": {},
   "outputs": [
    {
     "name": "stdout",
     "output_type": "stream",
     "text": [
      "done in 0.071s\n",
      "Shape of Data PCA is: (3111, 79)\n",
      "done in 0.007s\n"
     ]
    }
   ],
   "source": [
    "n_components = 79\n",
    "\n",
    "t0 = time()\n",
    "pca = PCA(n_components=n_components, svd_solver='randomized',\n",
    "          whiten=True).fit(Data)\n",
    "print(\"done in %0.3fs\" % (time() - t0))\n",
    "\n",
    "\n",
    "\n",
    "t0 = time()\n",
    "Data_pca = pca.transform(Data)\n",
    "print(\"Shape of Data PCA is: {}\".format(Data_pca.shape))\n",
    "print(\"done in %0.3fs\" % (time() - t0))"
   ]
  },
  {
   "cell_type": "markdown",
   "metadata": {},
   "source": [
    "## PCA: D1"
   ]
  },
  {
   "cell_type": "code",
   "execution_count": 31,
   "metadata": {},
   "outputs": [
    {
     "name": "stdout",
     "output_type": "stream",
     "text": [
      "done in 0.014s\n",
      "Shape of D1 PCA is: (3111, 20)\n",
      "done in 0.004s\n"
     ]
    }
   ],
   "source": [
    "n_components = 20\n",
    "\n",
    "t0 = time()\n",
    "pca = PCA(n_components=n_components, svd_solver='randomized',\n",
    "          whiten=True).fit(D1)\n",
    "print(\"done in %0.3fs\" % (time() - t0))\n",
    "\n",
    "\n",
    "\n",
    "t0 = time()\n",
    "D1_pca = pca.transform(D1)\n",
    "print(\"Shape of D1 PCA is: {}\".format(D1_pca.shape))\n",
    "print(\"done in %0.3fs\" % (time() - t0))"
   ]
  },
  {
   "cell_type": "markdown",
   "metadata": {},
   "source": [
    "## PCA: D2"
   ]
  },
  {
   "cell_type": "code",
   "execution_count": 32,
   "metadata": {},
   "outputs": [
    {
     "name": "stdout",
     "output_type": "stream",
     "text": [
      "done in 0.030s\n",
      "Shape of D2 PCA is: (3111, 30)\n",
      "done in 0.013s\n"
     ]
    }
   ],
   "source": [
    "n_components = 30\n",
    "\n",
    "t0 = time()\n",
    "pca = PCA(n_components=n_components, svd_solver='randomized',\n",
    "          whiten=True).fit(D2)\n",
    "print(\"done in %0.3fs\" % (time() - t0))\n",
    "\n",
    "\n",
    "\n",
    "t0 = time()\n",
    "D2_pca = pca.transform(D2)\n",
    "print(\"Shape of D2 PCA is: {}\".format(D2_pca.shape))\n",
    "print(\"done in %0.3fs\" % (time() - t0))"
   ]
  },
  {
   "cell_type": "markdown",
   "metadata": {},
   "source": [
    "## PCA D3"
   ]
  },
  {
   "cell_type": "code",
   "execution_count": 33,
   "metadata": {},
   "outputs": [
    {
     "name": "stdout",
     "output_type": "stream",
     "text": [
      "done in 0.027s\n",
      "Shape of D3 PCA is: (3111, 29)\n",
      "done in 0.004s\n"
     ]
    }
   ],
   "source": [
    "n_components = 29\n",
    "\n",
    "t0 = time()\n",
    "pca = PCA(n_components=n_components, svd_solver='randomized',\n",
    "          whiten=True).fit(D3)\n",
    "print(\"done in %0.3fs\" % (time() - t0))\n",
    "\n",
    "\n",
    "\n",
    "t0 = time()\n",
    "D3_pca = pca.transform(D3)\n",
    "print(\"Shape of D3 PCA is: {}\".format(D3_pca.shape))\n",
    "print(\"done in %0.3fs\" % (time() - t0))"
   ]
  },
  {
   "cell_type": "code",
   "execution_count": null,
   "metadata": {},
   "outputs": [],
   "source": []
  },
  {
   "cell_type": "code",
   "execution_count": null,
   "metadata": {},
   "outputs": [],
   "source": []
  },
  {
   "cell_type": "markdown",
   "metadata": {},
   "source": [
    "# concatenate all pca: D1+D2+D3 = segement_pca"
   ]
  },
  {
   "cell_type": "code",
   "execution_count": 34,
   "metadata": {},
   "outputs": [
    {
     "name": "stdout",
     "output_type": "stream",
     "text": [
      "Shape of segement_pca PCA is: (3111, 79)\n"
     ]
    }
   ],
   "source": [
    "segement_pca = np.concatenate((D1_pca, D2_pca, D3_pca), axis = 1)\n",
    "\n",
    "print(\"Shape of segement_pca PCA is: {}\".format(segement_pca.shape))"
   ]
  },
  {
   "cell_type": "markdown",
   "metadata": {},
   "source": [
    "## Extract Top 79 PCA accprding to code"
   ]
  },
  {
   "cell_type": "code",
   "execution_count": 35,
   "metadata": {},
   "outputs": [
    {
     "name": "stdout",
     "output_type": "stream",
     "text": [
      "After complete segemented the shape of the Data is: (3111, 79)\n"
     ]
    }
   ],
   "source": [
    "segement_pca = segement_pca[:, :79]\n",
    "\n",
    "print(\"After complete segemented the shape of the Data is: {}\".format(segement_pca.shape))"
   ]
  },
  {
   "cell_type": "markdown",
   "metadata": {},
   "source": [
    "# SVM On segement_pca"
   ]
  },
  {
   "cell_type": "markdown",
   "metadata": {},
   "source": [
    "## train test split"
   ]
  },
  {
   "cell_type": "code",
   "execution_count": 36,
   "metadata": {},
   "outputs": [
    {
     "data": {
      "text/plain": [
       "((2488, 79), (623, 79), (2488, 1), (623, 1))"
      ]
     },
     "execution_count": 36,
     "metadata": {},
     "output_type": "execute_result"
    }
   ],
   "source": [
    "from sklearn.model_selection import train_test_split\n",
    "\n",
    "X_train_pca, X_test_pca, y_train, y_test = train_test_split(segement_pca, label, test_size = 0.2, random_state=121)\n",
    "\n",
    "X_train_pca.shape, X_test_pca.shape, y_train.shape, y_test.shape"
   ]
  },
  {
   "cell_type": "code",
   "execution_count": null,
   "metadata": {},
   "outputs": [],
   "source": []
  },
  {
   "cell_type": "markdown",
   "metadata": {},
   "source": [
    "## Train svm on GridSearch approach"
   ]
  },
  {
   "cell_type": "code",
   "execution_count": 37,
   "metadata": {},
   "outputs": [
    {
     "name": "stdout",
     "output_type": "stream",
     "text": [
      "Fitting the classifier to the training set\n",
      "done in 2.814s\n",
      "Best estimator found by grid search:\n",
      "SVC(C=1000.0, class_weight='balanced', gamma=0.001)\n"
     ]
    }
   ],
   "source": [
    "#############################################################################\n",
    "#Train a SVM classification model\n",
    "\n",
    "print(\"Fitting the classifier to the training set\")\n",
    "t0 = time()\n",
    "param_grid = {'C': [1e3, 1e4],\n",
    "              'gamma': [0.0001,  0.001], }\n",
    "clf = GridSearchCV(\n",
    "    SVC(kernel='rbf', class_weight='balanced'), param_grid, cv=10\n",
    ")\n",
    "clf = clf.fit(X_train_pca, y_train)\n",
    "print(\"done in %0.3fs\" % (time() - t0))\n",
    "print(\"Best estimator found by grid search:\")\n",
    "print(clf.best_estimator_)"
   ]
  },
  {
   "cell_type": "markdown",
   "metadata": {},
   "source": [
    "## Test the model"
   ]
  },
  {
   "cell_type": "code",
   "execution_count": 40,
   "metadata": {},
   "outputs": [
    {
     "name": "stdout",
     "output_type": "stream",
     "text": [
      "Predicting HSI on the test set\n",
      "done in 0.011s\n",
      "              precision    recall  f1-score   support\n",
      "\n",
      "         One       0.99      1.00      0.99       607\n",
      "         Two       0.73      0.50      0.59        16\n",
      "\n",
      "    accuracy                           0.98       623\n",
      "   macro avg       0.86      0.75      0.79       623\n",
      "weighted avg       0.98      0.98      0.98       623\n",
      "\n",
      "[[604   3   0   0   0   0   0   0   0   0   0   0   0   0]\n",
      " [  8   8   0   0   0   0   0   0   0   0   0   0   0   0]\n",
      " [  0   0   0   0   0   0   0   0   0   0   0   0   0   0]\n",
      " [  0   0   0   0   0   0   0   0   0   0   0   0   0   0]\n",
      " [  0   0   0   0   0   0   0   0   0   0   0   0   0   0]\n",
      " [  0   0   0   0   0   0   0   0   0   0   0   0   0   0]\n",
      " [  0   0   0   0   0   0   0   0   0   0   0   0   0   0]\n",
      " [  0   0   0   0   0   0   0   0   0   0   0   0   0   0]\n",
      " [  0   0   0   0   0   0   0   0   0   0   0   0   0   0]\n",
      " [  0   0   0   0   0   0   0   0   0   0   0   0   0   0]\n",
      " [  0   0   0   0   0   0   0   0   0   0   0   0   0   0]\n",
      " [  0   0   0   0   0   0   0   0   0   0   0   0   0   0]\n",
      " [  0   0   0   0   0   0   0   0   0   0   0   0   0   0]\n",
      " [  0   0   0   0   0   0   0   0   0   0   0   0   0   0]]\n"
     ]
    }
   ],
   "source": [
    "\n",
    "# #############################################################################\n",
    "# Quantitative evaluation of the model quality on the test set\n",
    "\n",
    "print(\"Predicting HSI on the test set\")\n",
    "t0 = time()\n",
    "y_pred = clf.predict(X_test_pca)\n",
    "print(\"done in %0.3fs\" % (time() - t0))\n",
    "\n",
    "\n",
    "#label_names = ['Alfalfa', 'Corn-notill', 'Corn-mintill', 'Corn', 'Grass-pasture', 'Grass-trees', 'Grass-pasture-mowed', 'Hay-windrowed', 'Oats', 'Soybean-notill', 'Soybean-mintill', \n",
    "              #'Soybean-clean', 'Wheat', 'Wood', ]\n",
    "label_names=['One','Two']\n",
    "print(classification_report(y_test, y_pred, target_names=label_names))\n",
    "print(confusion_matrix(y_test, y_pred, labels=range(14)))"
   ]
  },
  {
   "cell_type": "code",
   "execution_count": 41,
   "metadata": {},
   "outputs": [
    {
     "name": "stderr",
     "output_type": "stream",
     "text": [
      "2021-01-21 19:00:20,577 NumExpr defaulting to 4 threads.\n"
     ]
    },
    {
     "data": {
      "image/png": "[encoded data removed]",
      "text/plain": [
       "<Figure size 720x720 with 2 Axes>"
      ]
     },
     "metadata": {
      "needs_background": "light"
     },
     "output_type": "display_data"
    }
   ],
   "source": [
    "cm = confusion_matrix(y_test, y_pred)\n",
    "df_cm = pd.DataFrame(cm,columns = label_names, index = label_names)\n",
    "\n",
    "\n",
    "plt.figure(figsize = (10,10))\n",
    "sns.set(font_scale=1)\n",
    "sns_plot = sns.heatmap(df_cm, cmap = 'Blues', annot = True, fmt='g', vmin=0, vmax=200)\n"
   ]
  },
  {
   "cell_type": "markdown",
   "metadata": {},
   "source": [
    "## Training and Cross Validation"
   ]
  },
  {
   "cell_type": "code",
   "execution_count": 42,
   "metadata": {},
   "outputs": [
    {
     "data": {
      "text/plain": [
       "((2488, 79), (623, 79), (2488, 1), (623, 1))"
      ]
     },
     "execution_count": 42,
     "metadata": {},
     "output_type": "execute_result"
    }
   ],
   "source": [
    "# Train test split\n",
    "X_train_pca, X_test_pca, y_train, y_test = train_test_split(segement_pca, label, test_size = 0.2, random_state=121)\n",
    "\n",
    "X_train_pca.shape, X_test_pca.shape, y_train.shape, y_test.shape"
   ]
  },
  {
   "cell_type": "code",
   "execution_count": null,
   "metadata": {},
   "outputs": [],
   "source": []
  },
  {
   "cell_type": "code",
   "execution_count": 43,
   "metadata": {},
   "outputs": [],
   "source": [
    "\n",
    "clf = SVC(C=10000.0, break_ties=False, cache_size=200, class_weight='balanced',\n",
    "    coef0=0.0, decision_function_shape='ovr', degree=3, gamma=0.001,\n",
    "    kernel='rbf', max_iter=-1, probability=False, random_state=None,\n",
    "    shrinking=True, tol=0.001, verbose=False)\n",
    "\n",
    "\n",
    "all_accuracies = cross_val_score(estimator=clf, X=X_train_pca, y=y_train, cv=10)"
   ]
  },
  {
   "cell_type": "code",
   "execution_count": 44,
   "metadata": {},
   "outputs": [
    {
     "name": "stdout",
     "output_type": "stream",
     "text": [
      "[0.96787149 0.98393574 0.99196787 0.97991968 0.98795181 0.98393574\n",
      " 0.98393574 0.97590361 0.97177419 0.96774194]\n"
     ]
    }
   ],
   "source": [
    "print(all_accuracies)"
   ]
  },
  {
   "cell_type": "markdown",
   "metadata": {},
   "source": [
    "# Extended"
   ]
  },
  {
   "cell_type": "code",
   "execution_count": 51,
   "metadata": {},
   "outputs": [],
   "source": [
    "from sklearn import neighbors, datasets, preprocessing\n",
    "from sklearn.model_selection import train_test_split\n",
    "from sklearn.metrics import accuracy_score\n",
    "from sklearn.metrics import classification_report\n",
    "from sklearn.metrics import confusion_matrix\n",
    "\n",
    "\n",
    "#Setting training and testing values\n",
    "\n",
    "Xtrain, Xtest, y_train, y_test = train_test_split(segement_pca, label,test_size = 0.2, random_state = 0)\n",
    "#X_train_pca, X_test_pca, y_train, y_test = train_test_split(segement_pca, label, test_size = 0.2, random_state=121)\n",
    "\n",
    "scaler = preprocessing.StandardScaler().fit(Xtrain)\n",
    "Xtrain = scaler.transform(Xtrain)\n",
    "Xtest = scaler.transform(Xtest)"
   ]
  },
  {
   "cell_type": "markdown",
   "metadata": {},
   "source": [
    "# Using KMN"
   ]
  },
  {
   "cell_type": "code",
   "execution_count": 52,
   "metadata": {},
   "outputs": [
    {
     "name": "stdout",
     "output_type": "stream",
     "text": [
      "Accuracy Score: 0.9775280898876404\n",
      "Confusion matrix \n",
      " [[604   5]\n",
      " [  9   5]]\n",
      "Classification \n",
      "               precision    recall  f1-score   support\n",
      "\n",
      "           0       0.99      0.99      0.99       609\n",
      "           1       0.50      0.36      0.42        14\n",
      "\n",
      "    accuracy                           0.98       623\n",
      "   macro avg       0.74      0.67      0.70       623\n",
      "weighted avg       0.97      0.98      0.98       623\n",
      "\n"
     ]
    }
   ],
   "source": [
    "# Modeling is done using KNN classifiers.\n",
    "knn = neighbors.KNeighborsClassifier(n_neighbors=2)\n",
    "knn.fit(Xtrain, y_train)\n",
    "y_pred = knn.predict(Xtest)\n",
    "\n",
    "\n",
    "# Display the Output\n",
    "\n",
    "print('Accuracy Score:', accuracy_score(y_test, y_pred))\n",
    "print('Confusion matrix \\n',  confusion_matrix(y_test, y_pred))\n",
    "print('Classification \\n', classification_report(y_test, y_pred))"
   ]
  },
  {
   "cell_type": "markdown",
   "metadata": {},
   "source": [
    "# Logistic Regression Accuracy"
   ]
  },
  {
   "cell_type": "code",
   "execution_count": 53,
   "metadata": {},
   "outputs": [
    {
     "name": "stdout",
     "output_type": "stream",
     "text": [
      "Logistic Regression :\n",
      "Accuracy =  0.9743178170144462\n",
      "[[601   8]\n",
      " [  8   6]]\n"
     ]
    }
   ],
   "source": [
    "#Logistic Regression\n",
    "from sklearn.metrics import confusion_matrix\n",
    "from sklearn.metrics import accuracy_score\n",
    "\n",
    "from sklearn.linear_model import LogisticRegression\n",
    "classifier = LogisticRegression()\n",
    "classifier.fit(Xtrain,y_train)\n",
    "y_pred = classifier.predict(Xtest)\n",
    "cm = confusion_matrix(y_test,y_pred)\n",
    "accuracy = accuracy_score(y_test,y_pred)\n",
    "print(\"Logistic Regression :\")\n",
    "print(\"Accuracy = \", accuracy)\n",
    "print(cm)"
   ]
  },
  {
   "cell_type": "markdown",
   "metadata": {},
   "source": [
    "# LR Cohen Kappa Accuracy"
   ]
  },
  {
   "cell_type": "code",
   "execution_count": 54,
   "metadata": {},
   "outputs": [
    {
     "data": {
      "text/plain": [
       "0.41543513957307066"
      ]
     },
     "execution_count": 54,
     "metadata": {},
     "output_type": "execute_result"
    }
   ],
   "source": [
    "from sklearn.metrics import cohen_kappa_score\n",
    "cluster = cohen_kappa_score(y_test, y_pred)\n",
    "cluster"
   ]
  },
  {
   "cell_type": "markdown",
   "metadata": {},
   "source": [
    "# Support Vector Machine Accuracy"
   ]
  },
  {
   "cell_type": "code",
   "execution_count": 56,
   "metadata": {},
   "outputs": [],
   "source": [
    "Xtrain, Xtest, y_train, y_test = train_test_split(segement_pca, label, test_size=0.2, random_state=0)"
   ]
  },
  {
   "cell_type": "code",
   "execution_count": 57,
   "metadata": {},
   "outputs": [
    {
     "name": "stdout",
     "output_type": "stream",
     "text": [
      "Support Vector Machine:\n",
      "Accuracy =  0.9807383627608347\n",
      "[[606   3]\n",
      " [  9   5]]\n"
     ]
    }
   ],
   "source": [
    "#Support Vector Machine\n",
    "from sklearn.svm import SVC\n",
    "classifier = SVC()\n",
    "classifier.fit(Xtrain,y_train)\n",
    "y_pred = classifier.predict(Xtest)\n",
    "cm = confusion_matrix(y_test,y_pred)\n",
    "accuracy = accuracy_score(y_test,y_pred)\n",
    "print(\"Support Vector Machine:\")\n",
    "print(\"Accuracy = \", accuracy)\n",
    "print(cm)"
   ]
  },
  {
   "cell_type": "markdown",
   "metadata": {},
   "source": [
    "# Gaussian Naive Bayes Accuracy"
   ]
  },
  {
   "cell_type": "code",
   "execution_count": 60,
   "metadata": {},
   "outputs": [
    {
     "name": "stdout",
     "output_type": "stream",
     "text": [
      "Gaussian Naive Bayes :\n",
      "Accuracy =  0.9165329052969502\n",
      "[[563  46]\n",
      " [  6   8]]\n"
     ]
    }
   ],
   "source": [
    "from sklearn.naive_bayes import GaussianNB\n",
    "classifier = GaussianNB()\n",
    "classifier.fit(Xtrain,y_train)\n",
    "y_pred = classifier.predict(Xtest)\n",
    "cm = confusion_matrix(y_test,y_pred)\n",
    "accuracy = accuracy_score(y_test,y_pred)\n",
    "print(\"Gaussian Naive Bayes :\")\n",
    "print(\"Accuracy = \", accuracy)\n",
    "print(cm)"
   ]
  },
  {
   "cell_type": "markdown",
   "metadata": {},
   "source": [
    "# Decision Tree Classifier Accuracy"
   ]
  },
  {
   "cell_type": "code",
   "execution_count": 62,
   "metadata": {},
   "outputs": [],
   "source": [
    "Xtrain, Xtest, y_train, y_test = train_test_split(segement_pca, label, test_size=0.2, random_state=0)"
   ]
  },
  {
   "cell_type": "code",
   "execution_count": 63,
   "metadata": {},
   "outputs": [
    {
     "name": "stdout",
     "output_type": "stream",
     "text": [
      "Decision Tree Classifier :\n",
      "Accuracy =  0.9165329052969502\n",
      "[[597  12]\n",
      " [ 10   4]]\n"
     ]
    }
   ],
   "source": [
    "from sklearn.model_selection import train_test_split\n",
    "\n",
    "\n",
    "from sklearn.tree import DecisionTreeClassifier as DT\n",
    "from sklearn.metrics import confusion_matrix\n",
    "from sklearn.metrics import accuracy_score\n",
    "\n",
    "classifier = DT(criterion='entropy', random_state=0)\n",
    "classifier.fit(Xtrain,y_train)\n",
    "y_pred = classifier.predict(Xtest)\n",
    "cm = confusion_matrix(y_test,y_pred)\n",
    "print(\"Decision Tree Classifier :\")\n",
    "print(\"Accuracy = \", accuracy)\n",
    "print(cm)"
   ]
  },
  {
   "cell_type": "markdown",
   "metadata": {},
   "source": [
    "# Random Forest Classifier Accuracy"
   ]
  },
  {
   "cell_type": "code",
   "execution_count": 64,
   "metadata": {},
   "outputs": [
    {
     "name": "stdout",
     "output_type": "stream",
     "text": [
      "Random Forest Classifier :\n",
      "Accuracy =  0.9165329052969502\n",
      "[[606   3]\n",
      " [  9   5]]\n"
     ]
    }
   ],
   "source": [
    "#Random Forest Classifier\n",
    "from sklearn.ensemble import RandomForestClassifier as RF\n",
    "classifier = RF(n_estimators=10, criterion='entropy', random_state=0)\n",
    "classifier.fit(Xtrain,y_train)\n",
    "y_pred = classifier.predict(Xtest)\n",
    "cm = confusion_matrix(y_test,y_pred)\n",
    "print(\"Random Forest Classifier :\")\n",
    "print(\"Accuracy = \", accuracy)\n",
    "print(cm)"
   ]
  },
  {
   "cell_type": "code",
   "execution_count": null,
   "metadata": {},
   "outputs": [],
   "source": []
  }
 ],
 "metadata": {
  "kernelspec": {
   "display_name": "Python 3",
   "language": "python",
   "name": "python3"
  },
  "language_info": {
   "codemirror_mode": {
    "name": "ipython",
    "version": 3
   },
   "file_extension": ".py",
   "mimetype": "text/x-python",
   "name": "python",
   "nbconvert_exporter": "python",
   "pygments_lexer": "ipython3",
   "version": "3.8.3"
  }
 },
 "nbformat": 4,
 "nbformat_minor": 4
}
